{
 "cells": [
  {
   "cell_type": "markdown",
   "metadata": {},
   "source": [
    "# File 2/01 of PyTorch learning, \n",
    "## Focus: End to End workflow\n",
    "### Resorces:\n",
    "* Docs: https://pytorch.org/docs/stable/index.html **(press Table of content v)**\n",
    "* Book: https://www.learnpytorch.io/00_pytorch_fundamentals/#exercises\n",
    "* Video: https://www.youtube.com/watch?v=V_xro1bcAuA&t=4749s"
   ]
  },
  {
   "cell_type": "code",
   "execution_count": 356,
   "metadata": {},
   "outputs": [],
   "source": [
    "what_were_covering = {1: \"data (prepare and load)\",\n",
    "                      2: \"build model\",\n",
    "                      3: \"fitting the model to data (training)\",\n",
    "                      4: \"making predictions and evaluating a model (inference)\",\n",
    "                      5: \"saving and loading a model\",\n",
    "                      6: \"putting everything together\"\n",
    "                      }"
   ]
  },
  {
   "cell_type": "code",
   "execution_count": 357,
   "metadata": {},
   "outputs": [],
   "source": [
    "import torch as pt\n",
    "from torch import nn # nn contains all of pytorchs building blocks neural networks\n",
    "import matplotlib.pyplot as plt"
   ]
  },
  {
   "cell_type": "markdown",
   "metadata": {},
   "source": [
    "## 1. Data (preparing and loading)\n",
    "\n",
    "Data can be almost anything in ml\n",
    "* Excel sheet\n",
    "* images of any kind\n",
    "* Videos (yt ex)\n",
    "* Audio like songs or podcast\n",
    "* DNA\n",
    "* Text\n",
    "\n",
    "ML is 2 parts:\n",
    "1. Get data to numerical representation\n",
    "2. Build a model to learn the patterns from the numbers\n",
    "\n",
    "\n",
    "To showcase this, let's create some known data using the linear regression formula\n",
    "\n",
    "We will use lrf to make a straight line from known parameters"
   ]
  },
  {
   "cell_type": "code",
   "execution_count": 358,
   "metadata": {},
   "outputs": [],
   "source": [
    "# Creating known paramters\n",
    "weight = 2 # k from y = kX+m\n",
    "bias = 1 # m\n",
    "\n",
    "\n",
    "# Create data\n",
    "X = pt.linspace(0, 1, 50).unsqueeze(dim=1)\n",
    "y = bias*X + weight\n",
    " "
   ]
  },
  {
   "cell_type": "markdown",
   "metadata": {},
   "source": [
    "# The three datasets\n",
    "1. Training set (tränande tester), can be about 70% of data\n",
    "2. Validation set (tränande tester), maybe 15%\n",
    "3. test set (testa om den funkar, sista testet), and then 15%\n",
    "\n",
    "procenterna kan bli sett som i skolan där de olika värdena representerar olika tester och lektioner\n",
    "1. training set kan ses som varje lektion där man får uppgifter\n",
    "2. Validation set som prov genom terminen i ex matte/fysik/kemi\n",
    "3. test set som Slutprov/Nationella"
   ]
  },
  {
   "cell_type": "code",
   "execution_count": 359,
   "metadata": {},
   "outputs": [
    {
     "data": {
      "text/plain": [
       "(40, 40, 10, 10)"
      ]
     },
     "execution_count": 359,
     "metadata": {},
     "output_type": "execute_result"
    }
   ],
   "source": [
    "# Create a train/test split\n",
    "train_split = int(0.8*len(X)) # 1 2 3 4 5 6 7 8 : 9 10\n",
    "X_train, y_train = X[:train_split], y[:train_split]\n",
    "X_test, y_test =  X[train_split:], y[train_split:]\n",
    "len(X_train), len(y_train), len(X_test), len(y_test)\n"
   ]
  },
  {
   "cell_type": "code",
   "execution_count": 360,
   "metadata": {},
   "outputs": [
    {
     "data": {
      "image/png": "[encoded data removed]",
      "text/plain": [
       "<Figure size 640x480 with 1 Axes>"
      ]
     },
     "metadata": {},
     "output_type": "display_data"
    }
   ],
   "source": [
    "# Sökes: en model där de oranga plupparna täcks av ml valda pluppar\n",
    "def plot_predictions(train_data=X_train, train_label=y_train, test_data=X_test, test_labels=y_test, predictions=None):\n",
    "  if predictions is not None:\n",
    "    plt.scatter(X_test, predictions, label=\"Train data\",s=4)\n",
    "  plt.scatter(train_data, train_label, label=\"Train data\",s=2.5)\n",
    "  plt.scatter(test_data, test_labels, label = \"Test data\",s=2.5)\n",
    "  plt.legend()\n",
    "  plt.show()\n",
    "\n",
    "\n",
    "plot_predictions(X_train, y_train, X_test, y_test, None)"
   ]
  },
  {
   "cell_type": "markdown",
   "metadata": {},
   "source": [
    "## 2. Build model\n",
    "#Our first PyTorch model\n",
    "#This is soooo exciting!!\n",
    "\n",
    "### Classes info (OOP) in Real Python: https://realpython.com/python3-object-oriented-programming/\n",
    "\n",
    "What our model does:\n",
    "* Start with random values (weight, bias)\n",
    "* Look at training and adjust the random values to better represent the ideal values (the weight and bias we used to create the data)\n",
    "\n",
    "How to do:\n",
    "Through two main algorithms:\n",
    "1. Gradient descent: https://shorturl.at/rtLT3\n",
    "2. Back propogation: https://tinyurl.com/2af8m886"
   ]
  },
  {
   "cell_type": "code",
   "execution_count": 361,
   "metadata": {},
   "outputs": [],
   "source": [
    "\n",
    "# Create a linear regression model class\n",
    "class LinearRegressionModel(nn.Module): # <- almost everything in PyTorch inherits from nn.Module\n",
    "  def __init__(self):\n",
    "    super().__init__()\n",
    "\n",
    "    # skapar alla variablar\n",
    "    # ex i lager eller som i denna med enstaka värden\n",
    "\n",
    "    # starta med random nummer på dessa, titta på datan och sedan updatera dessa för att få en som ger rätt svar\n",
    "    self.weights = nn.Parameter(pt.randn(1,\n",
    "                                         requires_grad = True, # needed for gradient descend\n",
    "                                         dtype=pt.float))\n",
    "    self.bias = nn.Parameter(pt.randn(1, \n",
    "                                     requires_grad = True,\n",
    "                                     dtype=pt.float))\n",
    "  # forward method defines the computations in the model\n",
    "  def forward(self, x: pt.Tensor) -> pt. Tensor: # <- \"x\" is the input data:\n",
    "    return self.weights * x + self.bias # kx+m\n"
   ]
  },
  {
   "cell_type": "code",
   "execution_count": 362,
   "metadata": {},
   "outputs": [
    {
     "data": {
      "text/plain": [
       "[Parameter containing:\n",
       " tensor([0.3367], requires_grad=True),\n",
       " Parameter containing:\n",
       " tensor([0.1288], requires_grad=True)]"
      ]
     },
     "execution_count": 362,
     "metadata": {},
     "output_type": "execute_result"
    }
   ],
   "source": [
    "# Create a random seed\n",
    "pt.manual_seed(42)\n",
    "# Create an instance of the model (this is a subclass of nn.Module)\n",
    "model_0 = LinearRegressionModel()\n",
    "list(model_0.parameters())"
   ]
  },
  {
   "cell_type": "code",
   "execution_count": 363,
   "metadata": {},
   "outputs": [
    {
     "data": {
      "text/plain": [
       "OrderedDict([('weights', tensor([0.3367])), ('bias', tensor([0.1288]))])"
      ]
     },
     "execution_count": 363,
     "metadata": {},
     "output_type": "execute_result"
    }
   ],
   "source": [
    "# List named paramters\n",
    "model_0.state_dict() # we want these as close to chosen weights and biases as possible"
   ]
  },
  {
   "cell_type": "markdown",
   "metadata": {},
   "source": [
    "### Making predictions using torch.inference_mode()\n",
    "To check our model's  predictive power, let's see how well it predicts 'y_test' basted on 'X_test'\n",
    "\n",
    "When data is passed through our model, its going to run it through our forward() model"
   ]
  },
  {
   "cell_type": "code",
   "execution_count": 364,
   "metadata": {},
   "outputs": [
    {
     "data": {
      "image/png": "[encoded data removed]",
      "text/plain": [
       "<Figure size 640x480 with 1 Axes>"
      ]
     },
     "metadata": {},
     "output_type": "display_data"
    }
   ],
   "source": [
    "# Make predictions with model\n",
    "with pt.inference_mode(): # hjälper med predictions, tar bort gradient tracking eftersom den inte behövs\n",
    "# i sin tur gör det fördelen att det går mycket fortare vid större datasets \n",
    "  y_preds = model_0(X_test) # att kalla klassen som vi gör här orsakar användning av forward \n",
    "\n",
    "# annan metod och gör liknande ting, men inference mode är föredraget\n",
    "# with pt.no_grad():\n",
    "#   y_preds = model_0(X_test)\n",
    "\n",
    "plot_predictions(predictions=y_preds)\n"
   ]
  },
  {
   "cell_type": "markdown",
   "metadata": {},
   "source": [
    "## 3. Train model\n",
    "\n",
    "The whole idea of training is for a model to move from some *unknown* paramters (these may be random) to some known values\n",
    "\n",
    "Or in other words from a poor representation of data to a better representation of the data\n",
    "\n",
    "To measure how poorly the models predictions are you need a loss function\n",
    "\n",
    "* Note: Loss function may also be called cost function, even if their real function are slightly different\n",
    "\n",
    "Things we need to train:\n",
    "\n",
    "- **Loss function:** A function that measure how bad the predictions are \n",
    "- **Optimizer:** Takes in the account the loss from the loss function and adjust the parameters accordingly (e.g weight and biases)\n",
    "  - Inside the optimizer you need to set two values\n",
    "    - params for parameters which you want to update to improve the nn\n",
    "    - lr for learn rate, defines how big each step to change the paramteres should be\n",
    "\n",
    "For PyTorch we need:\n",
    "* A training loop\n",
    "* A testing loop"
   ]
  },
  {
   "cell_type": "code",
   "execution_count": 365,
   "metadata": {},
   "outputs": [],
   "source": [
    "# Setting up a loss function\n",
    "loss_fn = nn.L1Loss() # calculates the MAE or Mean absolute error, alltså medelavståndet mellan önskade och givda\n",
    "\n",
    "#Setting up an optimizer (stochastic gradient descent)\n",
    "optimizer = pt.optim.SGD(params=model_0.parameters(), lr=0.01)\n",
    "\n"
   ]
  },
  {
   "cell_type": "markdown",
   "metadata": {},
   "source": [
    "### Building a training loop and a testing loop in PyTorch\n",
    "A couple of things we need in a training loop:\n",
    "1. Loop through the data\n",
    "2. Forward pass (this involves data moving through our model's forward() function/s) to make predictions on the data, often also called forward propagation\n",
    "3. Calculate the loss (compare forward pass predictions to ground truth labels)\n",
    "4. Optimizer zero grad\n",
    "5. Loss backward - move backwards through the network to calculate the gradients of each of the parameters in respect to the loss (**back propogation**)\n",
    "6. Optimizer step - use the optimizer to adjust our model's parameters to try and improve the loss (**gradient descent**), gradient = k value "
   ]
  },
  {
   "cell_type": "code",
   "execution_count": 366,
   "metadata": {},
   "outputs": [
    {
     "name": "stdout",
     "output_type": "stream",
     "text": [
      "Epoch: 0, Loss: 2.1351606845855713, Test loss: 2.459969997406006\n",
      "Epoch: 10, Loss: 2.0193233489990234, Test loss: 2.323828935623169\n",
      "Epoch: 20, Loss: 1.9034866094589233, Test loss: 2.187687635421753\n",
      "Epoch: 30, Loss: 1.787649393081665, Test loss: 2.051546335220337\n",
      "Epoch: 40, Loss: 1.6718122959136963, Test loss: 1.915405511856079\n",
      "Epoch: 50, Loss: 1.555975317955017, Test loss: 1.7792644500732422\n",
      "Epoch: 60, Loss: 1.4401382207870483, Test loss: 1.6431238651275635\n",
      "Epoch: 70, Loss: 1.3243013620376587, Test loss: 1.5069828033447266\n",
      "Epoch: 80, Loss: 1.2084643840789795, Test loss: 1.3708418607711792\n",
      "Epoch: 90, Loss: 1.0926275253295898, Test loss: 1.2347009181976318\n",
      "Epoch: 100, Loss: 0.9767906069755554, Test loss: 1.0985602140426636\n",
      "Epoch: 110, Loss: 0.8609535098075867, Test loss: 0.962419331073761\n",
      "Epoch: 120, Loss: 0.7451167106628418, Test loss: 0.826278567314148\n",
      "Epoch: 130, Loss: 0.6292796730995178, Test loss: 0.6901376843452454\n",
      "Epoch: 140, Loss: 0.5134426951408386, Test loss: 0.5539968609809875\n",
      "Epoch: 150, Loss: 0.397605836391449, Test loss: 0.41785597801208496\n",
      "Epoch: 160, Loss: 0.28176888823509216, Test loss: 0.2817150950431824\n",
      "Epoch: 170, Loss: 0.16593191027641296, Test loss: 0.14557424187660217\n",
      "Epoch: 180, Loss: 0.05009499192237854, Test loss: 0.009433460421860218\n",
      "Epoch: 190, Loss: 0.011962929740548134, Test loss: 0.027196049690246582\n",
      "Epoch: 200, Loss: 0.008406704291701317, Test loss: 0.018988490104675293\n",
      "Epoch: 210, Loss: 0.004850527737289667, Test loss: 0.010780811309814453\n",
      "Epoch: 220, Loss: 0.0035141378175467253, Test loss: 0.012891697697341442\n",
      "Epoch: 230, Loss: 0.003514027688652277, Test loss: 0.012891697697341442\n",
      "Epoch: 240, Loss: 0.003514027688652277, Test loss: 0.012891697697341442\n",
      "Epoch: 250, Loss: 0.003514027688652277, Test loss: 0.012891697697341442\n",
      "Epoch: 260, Loss: 0.003514027688652277, Test loss: 0.012891697697341442\n",
      "Epoch: 270, Loss: 0.003514027688652277, Test loss: 0.012891697697341442\n",
      "Epoch: 280, Loss: 0.003514027688652277, Test loss: 0.012891697697341442\n",
      "Epoch: 290, Loss: 0.003514027688652277, Test loss: 0.012891697697341442\n",
      "Epoch: 300, Loss: 0.003514027688652277, Test loss: 0.012891697697341442\n",
      "Epoch: 310, Loss: 0.003514027688652277, Test loss: 0.012891697697341442\n",
      "Epoch: 320, Loss: 0.003514027688652277, Test loss: 0.012891697697341442\n",
      "Epoch: 330, Loss: 0.003514027688652277, Test loss: 0.012891697697341442\n",
      "Epoch: 340, Loss: 0.003514027688652277, Test loss: 0.012891697697341442\n",
      "Epoch: 350, Loss: 0.003514027688652277, Test loss: 0.012891697697341442\n",
      "Epoch: 360, Loss: 0.003514027688652277, Test loss: 0.012891697697341442\n",
      "Epoch: 370, Loss: 0.003514027688652277, Test loss: 0.012891697697341442\n",
      "Epoch: 380, Loss: 0.003514027688652277, Test loss: 0.012891697697341442\n",
      "Epoch: 390, Loss: 0.003514027688652277, Test loss: 0.012891697697341442\n"
     ]
    }
   ],
   "source": [
    "# An epoch is one loop through the data...\n",
    "epochs = 200\n",
    "\n",
    "# Track different values\n",
    "epoch_count = []\n",
    "loss_values = []\n",
    "test_loss_values = []\n",
    "\n",
    "\n",
    "### Training\n",
    "for epoch in range(epochs): # iterate in a training loop\n",
    "  # Set the model to training mode\n",
    "  model_0.train() # train mode in PyTorch sets all parameters that requires gradifent to true\n",
    "\n",
    "  # 1. Forward pass\n",
    "  y_pred = model_0(X_train)\n",
    "\n",
    "  # 2. calculate loss, comparing predictions with true values\n",
    "  loss = loss_fn(y_pred, y_train)\n",
    "\n",
    "  # 3. Optimizer zero grad, because the gradients accumulate and stack it needs to be turned to zero,\n",
    "  # simular to a loop with an internal value that has to be reset each time the loop is rerun\n",
    "  optimizer.zero_grad()\n",
    "\n",
    "  # 4. Perform backpropogation on the loss, basically go back into the parameters and increase the values which pointed to the correct output, but decrease the once that pointed to the false output  \n",
    "  loss.backward()\n",
    "\n",
    "  # 5. Step the optimizer (perform gradient descent) always after loss backward\n",
    "  optimizer.step()\n",
    "\n",
    "  model_0.eval() # turns off gradient tracking and other settings which the model doesn't need for testing\n",
    "  if epoch%10 == 0:\n",
    "\n",
    "    with pt.inference_mode(): #\n",
    "      # 1. Do the forward pass\n",
    "      test_pred = model_0(X_test)\n",
    "      # 2. Calculate the loss\n",
    "      test_loss = loss_fn(test_pred, y_test)\n",
    "      print(f\"Epoch: {epoch}, Loss: {loss}, Test loss: {test_loss}\")\n",
    "    epoch_count.append(epoch)\n",
    "    loss_values.append(loss)\n",
    "    test_loss_values.append(test_loss)\n"
   ]
  },
  {
   "cell_type": "code",
   "execution_count": 367,
   "metadata": {},
   "outputs": [
    {
     "data": {
      "image/png": "[encoded data removed]",
      "text/plain": [
       "<Figure size 640x480 with 1 Axes>"
      ]
     },
     "metadata": {},
     "output_type": "display_data"
    }
   ],
   "source": [
    "with pt.inference_mode():\n",
    "    plt.plot(epoch_count, loss_values, label=\"Train loss\")\n",
    "    plt.plot(epoch_count, test_loss_values, label=\"Test loss\")\n",
    "    plt.title(\"Training and test loss curve\")\n",
    "    plt.legend()\n",
    "    plt.show"
   ]
  },
  {
   "cell_type": "code",
   "execution_count": 368,
   "metadata": {},
   "outputs": [
    {
     "data": {
      "image/png": "[encoded data removed]",
      "text/plain": [
       "<Figure size 640x480 with 1 Axes>"
      ]
     },
     "metadata": {},
     "output_type": "display_data"
    }
   ],
   "source": [
    "with pt.inference_mode():\n",
    "  y_preds_new = model_0(X_test)\n",
    "  plot_predictions(predictions = y_preds_new)"
   ]
  },
  {
   "cell_type": "code",
   "execution_count": 369,
   "metadata": {},
   "outputs": [
    {
     "data": {
      "text/plain": [
       "OrderedDict([('weights', tensor([1.0055])), ('bias', tensor([1.9943]))])"
      ]
     },
     "execution_count": 369,
     "metadata": {},
     "output_type": "execute_result"
    }
   ],
   "source": [
    "model_0.state_dict()"
   ]
  },
  {
   "cell_type": "markdown",
   "metadata": {},
   "source": [
    "## Saving a model in PyTorch \n",
    "There are three main methods you should know about for saving and loading models in PyTorch\n",
    "\n",
    "1. pt.save() - allows you to savea PyTorch object in Pythons pickle format\n",
    "2. torch.load() - allows you to load a saved PyTorch object\n",
    "3. torch.nn.Module.load_state_dict() - this allows you to load a models saved state dictionary, which are the most important parameters\n",
    "\n",
    "# can be done by saving the state dict or the entire model"
   ]
  },
  {
   "cell_type": "code",
   "execution_count": 373,
   "metadata": {},
   "outputs": [
    {
     "data": {
      "text/plain": [
       "[Parameter containing:\n",
       " tensor([1.0055], requires_grad=True),\n",
       " Parameter containing:\n",
       " tensor([1.9943], requires_grad=True)]"
      ]
     },
     "execution_count": 373,
     "metadata": {},
     "output_type": "execute_result"
    }
   ],
   "source": []
  }
 ],
 "metadata": {
  "kernelspec": {
   "display_name": "Python 3",
   "language": "python",
   "name": "python3"
  },
  "language_info": {
   "codemirror_mode": {
    "name": "ipython",
    "version": 3
   },
   "file_extension": ".py",
   "mimetype": "text/x-python",
   "name": "python",
   "nbconvert_exporter": "python",
   "pygments_lexer": "ipython3",
   "version": "3.11.4"
  },
  "orig_nbformat": 4
 },
 "nbformat": 4,
 "nbformat_minor": 2
}
