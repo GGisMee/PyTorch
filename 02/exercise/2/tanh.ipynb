{
 "cells": [
  {
   "cell_type": "code",
   "execution_count": 12,
   "metadata": {},
   "outputs": [
    {
     "data": {
      "text/plain": [
       "tensor([-0.9993,  0.0000,  0.9993])"
      ]
     },
     "execution_count": 12,
     "metadata": {},
     "output_type": "execute_result"
    }
   ],
   "source": [
    "import torch as pt\n",
    "def tanh(x: pt.Tensor) -> pt.Tensor:\n",
    "    if type(x) is not pt.Tensor:\n",
    "        print(\"Not tensor\")\n",
    "        return\n",
    "    top = pt.exp(x)-pt.exp(-x)\n",
    "    bottem = pt.exp(x)+pt.exp(-x)\n",
    "    return top/bottem\n"
   ]
  }
 ],
 "metadata": {
  "kernelspec": {
   "display_name": "Python 3",
   "language": "python",
   "name": "python3"
  },
  "language_info": {
   "codemirror_mode": {
    "name": "ipython",
    "version": 3
   },
   "file_extension": ".py",
   "mimetype": "text/x-python",
   "name": "python",
   "nbconvert_exporter": "python",
   "pygments_lexer": "ipython3",
   "version": "3.11.4"
  },
  "orig_nbformat": 4
 },
 "nbformat": 4,
 "nbformat_minor": 2
}
