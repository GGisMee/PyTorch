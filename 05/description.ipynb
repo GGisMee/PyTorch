{
 "cells": [
  {
   "cell_type": "markdown",
   "metadata": {},
   "source": [
    "## Going modular"
   ]
  },
  {
   "cell_type": "markdown",
   "metadata": {},
   "source": [
    "#### What"
   ]
  },
  {
   "cell_type": "markdown",
   "metadata": {},
   "source": [
    "Modular is when you instead of using notebooks make different python .py files like \n",
    "* data_setup.py - a file to prepare and download data if needed\n",
    "* engine.py - a file containing various training functions\n",
    "model_builder.py or model.py - a file to create a PyTorch model\n",
    "* train.py - a file to leverage all other files and train a target PyTorch model\n",
    "* utils.py - a file dedicated to helpful functions"
   ]
  },
  {
   "cell_type": "markdown",
   "metadata": {},
   "source": [
    "#### Why"
   ]
  },
  {
   "cell_type": "markdown",
   "metadata": {},
   "source": [
    "Notebooks are good to run experiments quickly, but for larger scale projects you may find Python scripts to be more reproductive and easier to run"
   ]
  },
  {
   "cell_type": "markdown",
   "metadata": {},
   "source": [
    "#### Pros and cons"
   ]
  },
  {
   "cell_type": "markdown",
   "metadata": {},
   "source": [
    "| type | Pros | Cons |\n",
    "| ---- | --- | --- |\n",
    "|Notebook|Easy to experiment with|Versioning can be hard|\n",
    "||Easy to share|Hard to use for specific parts of code|\n",
    "||Very visual|Text and code are easy to view|\n",
    "\n",
    "\n",
    "| type | Pros | Cons |\n",
    "| ---- | --- | --- |\n",
    "|Python scripts|Can package code together|Experiments are often not as visual, run whole script together|\n",
    "||can use git for versioning||\n",
    "||Many open source projects use scripts||\n",
    "||Larger projs can be run on cloud vendors||\n"
   ]
  },
  {
   "cell_type": "markdown",
   "metadata": {},
   "source": [
    "#### How"
   ]
  },
  {
   "cell_type": "markdown",
   "metadata": {},
   "source": [
    "Dbourkes workflow:\n",
    "Jupyter to setup project and come up with idea through visualization and experimentation\n",
    "->\n",
    "Useful pieces to Python scripts"
   ]
  },
  {
   "cell_type": "markdown",
   "metadata": {},
   "source": [
    "##### Pytorch in the wild"
   ]
  },
  {
   "cell_type": "markdown",
   "metadata": {},
   "source": [
    "In many ML PyTorch projects they have instructions on how to run the Python scripts\n",
    "One way to controll these code snippets without having to use input() or other method is to write a terminal to run command\n",
    "\n",
    "Ex:<br>\n",
    "python train.py --model MODEL_NAME --batch_size BATCH_SIZE --lr LEARNING_RATE --num_epochs NUM_EPOCHS"
   ]
  },
  {
   "cell_type": "markdown",
   "metadata": {},
   "source": [
    "##### Structure"
   ]
  },
  {
   "cell_type": "raw",
   "metadata": {},
   "source": [
    "going_modular/ \n",
    "├── going_modular/\n",
    "│   ├── data_setup.py\n",
    "│   ├── engine.py\n",
    "│   ├── model_builder.py\n",
    "│   ├── train.py\n",
    "│   └── utils.py\n",
    "├── models/\n",
    "│   ├── 05_going_modular_cell_mode_tinyvgg_model.pth\n",
    "│   └── 05_going_modular_script_mode_tinyvgg_model.pth\n",
    "└── data/\n",
    "    └── pizza_steak_sushi/\n",
    "        ├── train/\n",
    "        │   ├── pizza/\n",
    "        │   │   ├── image01.jpeg\n",
    "        │   │   └── ...\n",
    "        │   ├── steak/\n",
    "        │   └── sushi/\n",
    "        └── test/\n",
    "            ├── pizza/\n",
    "            ├── steak/\n",
    "            └── sushi/"
   ]
  }
 ],
 "metadata": {
  "kernelspec": {
   "display_name": "Python 3.11.1 64-bit",
   "language": "python",
   "name": "python3"
  },
  "language_info": {
   "name": "python",
   "version": "3.11.1"
  },
  "orig_nbformat": 4,
  "vscode": {
   "interpreter": {
    "hash": "aee8b7b246df8f9039afb4144a1f6fd8d2ca17a180786b69acc140d282b71a49"
   }
  }
 },
 "nbformat": 4,
 "nbformat_minor": 2
}
