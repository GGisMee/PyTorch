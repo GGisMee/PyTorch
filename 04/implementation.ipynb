{
 "cells": [
  {
   "cell_type": "markdown",
   "metadata": {},
   "source": [
    "### Imports "
   ]
  },
  {
   "cell_type": "code",
   "execution_count": null,
   "metadata": {},
   "outputs": [],
   "source": [
    "# Imports\n",
    "import torch as pt\n",
    "from torch import nn\n",
    "\n",
    "print(f\"Torch version: {pt.__version__}\")\n",
    "\n",
    "# if pt.cuda.is_available():\n",
    "#     device = 'cuda'\n",
    "# if pt.backends.mps.is_available():\n",
    "#     device = 'mps'\n",
    "# else:\n",
    "#     device= 'cpu'\n",
    "device = 'cpu'\n",
    "print(f'device: {device}')"
   ]
  },
  {
   "cell_type": "markdown",
   "metadata": {},
   "source": [
    "### Downloading a custom dataset"
   ]
  },
  {
   "cell_type": "code",
   "execution_count": null,
   "metadata": {},
   "outputs": [],
   "source": [
    "from pathlib import Path\n",
    "import importLib\n",
    "from sys import path\n",
    "import zipfile\n",
    "\n",
    "\n",
    "# Create directory\n",
    "data_path = Path(f\"{path[0]}/data\")\n",
    "image_path = data_path / 'pizza_steak_sushi'\n",
    "if image_path.exists():\n",
    "    print('Already exists')\n",
    "else:\n",
    "    image_path.mkdir(parents=True)\n",
    "\n",
    "\n",
    "# Download pizza, steak and sushi data\n",
    "# open skapar en zip fil som sedan fylls genom request\n",
    "importLib.import_from_github('https://github.com/mrdbourke/pytorch-deep-learning/raw/main/data/pizza_steak_sushi.zip',directory=data_path)\n",
    "with zipfile.ZipFile(data_path/'pizza_steak_sushi.zip', 'r') as zip_ref:\n",
    "    print('Unzipping pizza, steak and sushi data')\n",
    "    zip_ref.extractall(image_path)\n",
    "Path.unlink(data_path/'pizza_steak_sushi.zip')\n"
   ]
  },
  {
   "cell_type": "code",
   "execution_count": null,
   "metadata": {},
   "outputs": [],
   "source": [
    "# Setup training and testing paths\n",
    "train_dir = image_path / 'train'\n",
    "test_dir = image_path / 'test'\n",
    "\n",
    "train_dir, test_dir"
   ]
  },
  {
   "cell_type": "markdown",
   "metadata": {},
   "source": [
    "### Create dataset and dataloaders"
   ]
  },
  {
   "cell_type": "code",
   "execution_count": null,
   "metadata": {},
   "outputs": [],
   "source": [
    "from torchvision import transforms\n",
    "simple_transform = transforms.Compose([\n",
    "    transforms.Resize((64,64)),\n",
    "    transforms.ToTensor()\n",
    "])"
   ]
  },
  {
   "cell_type": "code",
   "execution_count": null,
   "metadata": {},
   "outputs": [],
   "source": [
    "from torch.utils.data import DataLoader\n",
    "from torchvision import datasets\n",
    "\n",
    "train_dataset = datasets.ImageFolder(root = train_dir, transform=simple_transform)\n",
    "test_dataset = datasets.ImageFolder(root = test_dir, transform=simple_transform)"
   ]
  },
  {
   "cell_type": "code",
   "execution_count": null,
   "metadata": {},
   "outputs": [],
   "source": [
    "import os\n",
    "BATCH_SIZE = 32\n",
    "NUM_WORKERS = round(os.cpu_count()*(3/4))\n",
    "train_dataloader = DataLoader(\n",
    "    dataset=train_dataset,\n",
    "    batch_size=32,\n",
    "    num_workers=NUM_WORKERS,\n",
    "    shuffle=False\n",
    ")\n",
    "\n",
    "test_dataloader = DataLoader(\n",
    "    dataset=test_dataset,\n",
    "    batch_size=32,\n",
    "    num_workers=NUM_WORKERS,\n",
    "    shuffle=False\n",
    ")"
   ]
  },
  {
   "cell_type": "markdown",
   "metadata": {},
   "source": [
    "### Create model"
   ]
  },
  {
   "cell_type": "code",
   "execution_count": 29,
   "metadata": {},
   "outputs": [],
   "source": [
    "from torch import nn\n",
    "\n",
    "class ModelWithoutAugmentation(nn.Module):\n",
    "    def __init__(self, input_features:int,output_features:int, hidden_units:int=10):\n",
    "        super().__init__()\n",
    "        self.conv_block_1 = nn.Sequential(\n",
    "            nn.Conv2d(input_features, hidden_units,\n",
    "                      kernel_size=3, stride=1, padding=1),\n",
    "            nn.ReLU(),\n",
    "\n",
    "\n",
    "            nn.Conv2d(hidden_units, hidden_units,\n",
    "                      kernel_size=3, stride=1, padding=1),\n",
    "            nn.ReLU(),\n",
    "            nn.MaxPool2d(kernel_size=2, stride=2)\n",
    "        )\n",
    "\n",
    "        self.conv_block_2 = nn.Sequential(\n",
    "            nn.Conv2d(hidden_units, hidden_units,\n",
    "                      kernel_size=3, stride=1, padding=1),\n",
    "            nn.ReLU(),\n",
    "\n",
    "\n",
    "            nn.Conv2d(hidden_units, hidden_units,\n",
    "                      kernel_size=3, stride=1, padding=1),\n",
    "            nn.ReLU(),\n",
    "            nn.MaxPool2d(kernel_size=2, stride=2)\n",
    "        )\n",
    "\n",
    "        self.classifier = nn.Sequential(\n",
    "            nn.Flatten(),\n",
    "            nn.Linear(hidden_units*256, output_features)\n",
    "        )\n",
    "    def forward(self, X:pt.Tensor) -> pt.Tensor:\n",
    "        X_change = self.conv_block_1(X)\n",
    "        X_change = self.conv_block_2(X_change)\n",
    "        # print(X_change.shape)\n",
    "        X_change = self.classifier(X_change)\n",
    "        return X_change"
   ]
  },
  {
   "cell_type": "code",
   "execution_count": 30,
   "metadata": {},
   "outputs": [
    {
     "data": {
      "text/plain": [
       "ModelWithoutAugmentation(\n",
       "  (conv_block_1): Sequential(\n",
       "    (0): Conv2d(3, 10, kernel_size=(3, 3), stride=(1, 1), padding=(1, 1))\n",
       "    (1): ReLU()\n",
       "    (2): Conv2d(10, 10, kernel_size=(3, 3), stride=(1, 1), padding=(1, 1))\n",
       "    (3): ReLU()\n",
       "    (4): MaxPool2d(kernel_size=2, stride=2, padding=0, dilation=1, ceil_mode=False)\n",
       "  )\n",
       "  (conv_block_2): Sequential(\n",
       "    (0): Conv2d(10, 10, kernel_size=(3, 3), stride=(1, 1), padding=(1, 1))\n",
       "    (1): ReLU()\n",
       "    (2): Conv2d(10, 10, kernel_size=(3, 3), stride=(1, 1), padding=(1, 1))\n",
       "    (3): ReLU()\n",
       "    (4): MaxPool2d(kernel_size=2, stride=2, padding=0, dilation=1, ceil_mode=False)\n",
       "  )\n",
       "  (classifier): Sequential(\n",
       "    (0): Flatten(start_dim=1, end_dim=-1)\n",
       "    (1): Linear(in_features=2560, out_features=3, bias=True)\n",
       "  )\n",
       ")"
      ]
     },
     "execution_count": 30,
     "metadata": {},
     "output_type": "execute_result"
    }
   ],
   "source": [
    "pt.manual_seed(42)\n",
    "model0 = ModelWithoutAugmentation(input_features=3, output_features=len(train_dataset.classes), hidden_units=10).to(device)\n",
    "model0"
   ]
  },
  {
   "cell_type": "markdown",
   "metadata": {},
   "source": [
    "#### Testing model with random data"
   ]
  },
  {
   "cell_type": "code",
   "execution_count": 31,
   "metadata": {},
   "outputs": [
    {
     "name": "stdout",
     "output_type": "stream",
     "text": [
      "torch.Size([32, 3, 64, 64]) 32\n"
     ]
    },
    {
     "data": {
      "text/plain": [
       "tensor([[0.0602, 0.0636, 0.0365],\n",
       "        [0.0641, 0.0650, 0.0380],\n",
       "        [0.0633, 0.0635, 0.0402],\n",
       "        [0.0670, 0.0642, 0.0410],\n",
       "        [0.0688, 0.0647, 0.0378],\n",
       "        [0.0595, 0.0594, 0.0380],\n",
       "        [0.0651, 0.0613, 0.0402],\n",
       "        [0.0616, 0.0613, 0.0405],\n",
       "        [0.0687, 0.0646, 0.0417],\n",
       "        [0.0636, 0.0617, 0.0385],\n",
       "        [0.0709, 0.0686, 0.0403],\n",
       "        [0.0679, 0.0707, 0.0401],\n",
       "        [0.0656, 0.0622, 0.0375],\n",
       "        [0.0642, 0.0608, 0.0389],\n",
       "        [0.0605, 0.0604, 0.0399],\n",
       "        [0.0664, 0.0644, 0.0383],\n",
       "        [0.0740, 0.0676, 0.0400],\n",
       "        [0.0639, 0.0624, 0.0379],\n",
       "        [0.0709, 0.0683, 0.0400],\n",
       "        [0.0628, 0.0608, 0.0386],\n",
       "        [0.0647, 0.0643, 0.0413],\n",
       "        [0.0689, 0.0657, 0.0402],\n",
       "        [0.0621, 0.0610, 0.0379],\n",
       "        [0.0655, 0.0618, 0.0404],\n",
       "        [0.0685, 0.0636, 0.0398],\n",
       "        [0.0642, 0.0620, 0.0386],\n",
       "        [0.0630, 0.0637, 0.0382],\n",
       "        [0.0654, 0.0642, 0.0376],\n",
       "        [0.0678, 0.0621, 0.0349],\n",
       "        [0.0583, 0.0603, 0.0371],\n",
       "        [0.0609, 0.0628, 0.0378],\n",
       "        [0.0673, 0.0616, 0.0385]], grad_fn=<AddmmBackward0>)"
      ]
     },
     "execution_count": 31,
     "metadata": {},
     "output_type": "execute_result"
    }
   ],
   "source": [
    "imgs, labels = next(iter(train_dataloader))\n",
    "print(imgs.shape, len(labels))\n",
    "# model0(imgs[0].unsqueeze(0))\n",
    "model0(imgs.to(device))"
   ]
  },
  {
   "cell_type": "markdown",
   "metadata": {},
   "source": [
    "### Summarize a model"
   ]
  },
  {
   "cell_type": "code",
   "execution_count": 32,
   "metadata": {},
   "outputs": [],
   "source": [
    "try:\n",
    "    import torchinfo\n",
    "except ModuleNotFoundError:\n",
    "    print('Module not found, installing module')\n",
    "    !pip3 install torchinfo"
   ]
  },
  {
   "cell_type": "code",
   "execution_count": 33,
   "metadata": {},
   "outputs": [
    {
     "data": {
      "text/plain": [
       "==========================================================================================\n",
       "Layer (type:depth-idx)                   Output Shape              Param #\n",
       "==========================================================================================\n",
       "ModelWithoutAugmentation                 [32, 3]                   --\n",
       "├─Sequential: 1-1                        [32, 10, 32, 32]          --\n",
       "│    └─Conv2d: 2-1                       [32, 10, 64, 64]          280\n",
       "│    └─ReLU: 2-2                         [32, 10, 64, 64]          --\n",
       "│    └─Conv2d: 2-3                       [32, 10, 64, 64]          910\n",
       "│    └─ReLU: 2-4                         [32, 10, 64, 64]          --\n",
       "│    └─MaxPool2d: 2-5                    [32, 10, 32, 32]          --\n",
       "├─Sequential: 1-2                        [32, 10, 16, 16]          --\n",
       "│    └─Conv2d: 2-6                       [32, 10, 32, 32]          910\n",
       "│    └─ReLU: 2-7                         [32, 10, 32, 32]          --\n",
       "│    └─Conv2d: 2-8                       [32, 10, 32, 32]          910\n",
       "│    └─ReLU: 2-9                         [32, 10, 32, 32]          --\n",
       "│    └─MaxPool2d: 2-10                   [32, 10, 16, 16]          --\n",
       "├─Sequential: 1-3                        [32, 3]                   --\n",
       "│    └─Flatten: 2-11                     [32, 2560]                --\n",
       "│    └─Linear: 2-12                      [32, 3]                   7,683\n",
       "==========================================================================================\n",
       "Total params: 10,693\n",
       "Trainable params: 10,693\n",
       "Non-trainable params: 0\n",
       "Total mult-adds (Units.MEGABYTES): 215.86\n",
       "==========================================================================================\n",
       "Input size (MB): 1.57\n",
       "Forward/backward pass size (MB): 26.22\n",
       "Params size (MB): 0.04\n",
       "Estimated Total Size (MB): 27.83\n",
       "=========================================================================================="
      ]
     },
     "execution_count": 33,
     "metadata": {},
     "output_type": "execute_result"
    }
   ],
   "source": [
    "torchinfo.summary(model0, input_size=[32,3,64,64],device=device)"
   ]
  },
  {
   "cell_type": "code",
   "execution_count": 39,
   "metadata": {},
   "outputs": [],
   "source": [
    "from helper_functions import accuracy_fn\n",
    "loss_fn = nn.CrossEntropyLoss()\n",
    "\n",
    "optimizer = pt.optim.SGD(params = model0.parameters(), lr=0.1)\n",
    "\n",
    "def accuracy_fn(y_logits, y_true:pt.Tensor):\n",
    "    print(y_logits)\n",
    "    y_preds = y_logits.argmax(1)\n",
    "    # train_acc += (y_preds==y_true).sum().item()/len(y_logits)\n",
    "    train_acc += pt.eq(y_preds,y_true).sum().item()/len(y_logits)\n",
    "\n",
    "    return train_acc"
   ]
  },
  {
   "cell_type": "code",
   "execution_count": 40,
   "metadata": {},
   "outputs": [
    {
     "name": "stdout",
     "output_type": "stream",
     "text": [
      "tensor([0, 0, 0, 0, 0, 0, 0, 0, 0, 0, 0, 0, 0, 0, 0, 0, 0, 0, 0, 0, 0, 0, 0, 0,\n",
      "        0, 0, 0, 0, 0, 0, 0, 0])\n"
     ]
    },
    {
     "ename": "IndexError",
     "evalue": "Dimension out of range (expected to be in range of [-1, 0], but got 1)",
     "output_type": "error",
     "traceback": [
      "\u001b[0;31m---------------------------------------------------------------------------\u001b[0m",
      "\u001b[0;31mIndexError\u001b[0m                                Traceback (most recent call last)",
      "Cell \u001b[0;32mIn[40], line 7\u001b[0m\n\u001b[1;32m      5\u001b[0m \u001b[39mfor\u001b[39;00m epoch \u001b[39min\u001b[39;00m \u001b[39mrange\u001b[39m(epochs):\n\u001b[1;32m      6\u001b[0m     timer\u001b[39m.\u001b[39minterval()\n\u001b[0;32m----> 7\u001b[0m     Model_operations\u001b[39m.\u001b[39;49mtrain_step(model0, train_dataloader, optimizer, loss_fn, accuracy_fn,device,\u001b[39mTrue\u001b[39;49;00m)\n\u001b[1;32m      8\u001b[0m     Model_operations\u001b[39m.\u001b[39mtest_step(model0, test_dataloader, loss_fn, accuracy_fn,device,\u001b[39mTrue\u001b[39;00m)\n\u001b[1;32m      9\u001b[0m timer\u001b[39m.\u001b[39mshow_as_print()\n",
      "File \u001b[0;32m~/Desktop/github to hemma/PyTorch/04/ml_funcs.py:246\u001b[0m, in \u001b[0;36mModel_operations.train_step\u001b[0;34m(model, dataloader, optimizer, loss_fn, accuracy_fn, device, show)\u001b[0m\n\u001b[1;32m    244\u001b[0m \u001b[39m# Accumulate values\u001b[39;00m\n\u001b[1;32m    245\u001b[0m train_loss \u001b[39m+\u001b[39m\u001b[39m=\u001b[39m loss \u001b[39m# accumulate train loss\u001b[39;00m\n\u001b[0;32m--> 246\u001b[0m train_acc \u001b[39m+\u001b[39m\u001b[39m=\u001b[39m accuracy_fn(y, y_logits) \u001b[39m# accumulate accuracy, goes from logits -> prediction labels with argmax(dim=1)\u001b[39;00m\n\u001b[1;32m    248\u001b[0m \u001b[39m# optimizer zero grad, Loss backward,   Optimizer step\u001b[39;00m\n\u001b[1;32m    249\u001b[0m optimizer\u001b[39m.\u001b[39mzero_grad(); loss\u001b[39m.\u001b[39mbackward(); optimizer\u001b[39m.\u001b[39mstep()\n",
      "Cell \u001b[0;32mIn[39], line 8\u001b[0m, in \u001b[0;36maccuracy_fn\u001b[0;34m(y_logits, y_true)\u001b[0m\n\u001b[1;32m      6\u001b[0m \u001b[39mdef\u001b[39;00m \u001b[39maccuracy_fn\u001b[39m(y_logits, y_true:pt\u001b[39m.\u001b[39mTensor):\n\u001b[1;32m      7\u001b[0m     \u001b[39mprint\u001b[39m(y_logits)\n\u001b[0;32m----> 8\u001b[0m     y_preds \u001b[39m=\u001b[39m y_logits\u001b[39m.\u001b[39;49margmax(\u001b[39m1\u001b[39;49m)\n\u001b[1;32m      9\u001b[0m     \u001b[39m# train_acc += (y_preds==y_true).sum().item()/len(y_logits)\u001b[39;00m\n\u001b[1;32m     10\u001b[0m     train_acc \u001b[39m+\u001b[39m\u001b[39m=\u001b[39m pt\u001b[39m.\u001b[39meq(y_preds,y_true)\u001b[39m.\u001b[39msum()\u001b[39m.\u001b[39mitem()\u001b[39m/\u001b[39m\u001b[39mlen\u001b[39m(y_logits)\n",
      "\u001b[0;31mIndexError\u001b[0m: Dimension out of range (expected to be in range of [-1, 0], but got 1)"
     ]
    }
   ],
   "source": [
    "from ml_funcs import Model_operations, Timer\n",
    "import tqdm\n",
    "timer = Timer()\n",
    "epochs = 3\n",
    "for epoch in range(epochs):\n",
    "    timer.interval()\n",
    "    Model_operations.train_step(model0, train_dataloader, optimizer, loss_fn, accuracy_fn,device,True)\n",
    "    Model_operations.test_step(model0, test_dataloader, loss_fn, accuracy_fn,device,True)\n",
    "timer.show_as_print()"
   ]
  },
  {
   "cell_type": "code",
   "execution_count": null,
   "metadata": {},
   "outputs": [],
   "source": []
  }
 ],
 "metadata": {
  "kernelspec": {
   "display_name": "Python 3.11.1 64-bit",
   "language": "python",
   "name": "python3"
  },
  "language_info": {
   "codemirror_mode": {
    "name": "ipython",
    "version": 3
   },
   "file_extension": ".py",
   "mimetype": "text/x-python",
   "name": "python",
   "nbconvert_exporter": "python",
   "pygments_lexer": "ipython3",
   "version": "3.11.1"
  },
  "orig_nbformat": 4,
  "vscode": {
   "interpreter": {
    "hash": "aee8b7b246df8f9039afb4144a1f6fd8d2ca17a180786b69acc140d282b71a49"
   }
  }
 },
 "nbformat": 4,
 "nbformat_minor": 2
}
