{
 "cells": [
  {
   "cell_type": "code",
   "execution_count": 143,
   "metadata": {},
   "outputs": [],
   "source": [
    "import numpy as np\n",
    "import pandas as pd\n",
    "import matplotlib.pyplot as plt\n",
    "import os\n",
    "from sys import path\n"
   ]
  },
  {
   "cell_type": "code",
   "execution_count": 144,
   "metadata": {},
   "outputs": [],
   "source": [
    "class data_manager:\n",
    "    def __init__(self, column_names: np.array = []):\n",
    "        \"\"\"A progress data manager\"\"\"\n",
    "        self.df = pd.DataFrame(columns=column_names)\n",
    "    def add(self, row: list):\n",
    "        \"\"\"Adds a row to the df\"\"\"\n",
    "        self.df.loc[len(self.df)] = row\n",
    "\n",
    "    def save(self, name: str = \"dataframe\", path: str = path[0], overwrite=False):\n",
    "        \"\"\"save df as name to path\"\"\"\n",
    "        if os.path.exists(f\"{path}/{name}.csv\") and not overwrite:\n",
    "            print(\"File already exists, enable overwrite to save and overwrite\")\n",
    "            return\n",
    "        self.df.to_csv(f\"{path}/{name}.csv\", index=False)\n",
    "    def load(self,  name: str = \"dataframe\", path: str = path[0]):\n",
    "        \"\"\"load df from path/name\"\"\"\n",
    "        if os.path.exists(f\"{path}/{name}.csv\"):\n",
    "            self.df = pd.read_csv(f\"{path}/{name}.csv\")\n",
    "        else:\n",
    "            print(\"path/name doesn't exist\")\n",
    "    def clear(self):\n",
    "        \"\"\"clears all the rows of data\"\"\"\n",
    "        self.df = pd.DataFrame(columns=self.df.columns)\n",
    "    def all_csv():\n",
    "        all_files = os.listdir(path[0])\n",
    "        return [file for file in all_files if file.endswith(\".csv\")]"
   ]
  },
  {
   "cell_type": "code",
   "execution_count": 162,
   "metadata": {},
   "outputs": [],
   "source": [
    "class progress_viewer(data_manager):\n",
    "    def __init__(self):\n",
    "        super().__init__(column_names = [\"train_loss\",\"train_acc\",\"test_loss\",\"test_acc\"])\n",
    "    def add(self,train_loss, train_acc, test_loss, test_acc):\n",
    "        \"\"\"just a packager for parant add\"\"\"\n",
    "        super().add([train_loss*100, train_acc, test_loss*100, test_acc])\n",
    "    def view(self):\n",
    "        for column_name in self.df.columns:\n",
    "            column_value = self.df[column_name].to_numpy()\n",
    "            plt.plot(column_value, label=column_name)\n",
    "        plt.legend()\n",
    "        plt.show()\n",
    "    def save(self,name: str = \"dataframe_prog_viewer\", path = path[0]):\n",
    "        super().save(name, path)\n",
    "    def load(self,name: str = \"dataframe_prog_viewer\", path = path[0]):\n",
    "        super().load(name, path)"
   ]
  },
  {
   "cell_type": "code",
   "execution_count": 172,
   "metadata": {},
   "outputs": [],
   "source": [
    "class difference_viewer(data_manager):\n",
    "    def __init__(self):\n",
    "        super().__init__(column_names = [\"train_loss\",\"train_acc\",\"test_loss\",\"test_acc\", \"name\"])\n",
    "    def add(self, train_loss, train_acc, test_loss, test_acc, name, replace=False):\n",
    "        \"\"\"just a packager for parant add\"\"\"\n",
    "        if name not in self.df[\"name\"].values:\n",
    "            super().add([train_loss*100, train_acc, test_loss*100, test_acc, name])\n",
    "        elif replace:\n",
    "            self.df.loc[self.df[\"name\"]==name, [\"train_loss\", \"train_acc\", \"test_loss\", \"test_acc\"]] = [train_loss, train_acc, test_loss, test_acc]\n",
    "            print(self.df)\n",
    "        else:\n",
    "            print(\"Row with name already exists, please change name or enable replace\")\n",
    "    def show(self):\n",
    "        labels = [\"Train loss\", \"Train accuracy\", \"Test loss\", \"Test accuracy\"]\n",
    "        label_colors = ['red', 'green', 'blue', 'orange']\n",
    "        plt.figure(figsize=(8,4))\n",
    "        train_loss, train_acc, test_loss, test_acc, names = self.df.to_numpy().T\n",
    "\n",
    "        plt.scatter(names, train_loss, label=labels[0], c=label_colors[0])\n",
    "        plt.scatter(names, train_acc, label=labels[1], c=label_colors[1])\n",
    "        plt.scatter(names, test_loss, label=labels[2], c=label_colors[2])\n",
    "        plt.scatter(names, test_acc, label=labels[3], c=label_colors[3])\n",
    "        plt.legend()\n",
    "        plt.show()\n",
    "    def save(self,name: str = \"dataframe_diff_viewer\", path = path[0]):\n",
    "        print(name, path)\n",
    "        super().save(name, path)\n",
    "    def load(self,name: str = \"dataframe_diff_viewer\", path = path[0]):\n",
    "        super().load(name, path)\n"
   ]
  },
  {
   "cell_type": "code",
   "execution_count": 174,
   "metadata": {},
   "outputs": [
    {
     "name": "stdout",
     "output_type": "stream",
     "text": [
      "dataframe_diff_viewer c:\\Users\\22gusgam\\Desktop\\programmering\\PyTorch\\ml toolkit\n"
     ]
    }
   ],
   "source": [
    "dv = difference_viewer()\n",
    "dv.add(0.2, 21,0.64, 27,\"hello\")\n",
    "dv.save()"
   ]
  }
 ],
 "metadata": {
  "kernelspec": {
   "display_name": "Python 3",
   "language": "python",
   "name": "python3"
  },
  "language_info": {
   "codemirror_mode": {
    "name": "ipython",
    "version": 3
   },
   "file_extension": ".py",
   "mimetype": "text/x-python",
   "name": "python",
   "nbconvert_exporter": "python",
   "pygments_lexer": "ipython3",
   "version": "3.11.4"
  },
  "orig_nbformat": 4
 },
 "nbformat": 4,
 "nbformat_minor": 2
}
