{
 "cells": [
  {
   "cell_type": "code",
   "execution_count": null,
   "metadata": {},
   "outputs": [],
   "source": [
    "import numpy as np\n",
    "import pandas as pd\n",
    "import torch as pt\n",
    "import matplotlib.pyplot as plt\n",
    "import os\n",
    "from sys import path\n",
    "from typing import List, Callable, Union\n",
    "\n",
    "class data_manager:\n",
    "    def __init__(self, column_names: np.array = []):\n",
    "        \"\"\"A progress data manager\"\"\"\n",
    "        self.df = pd.DataFrame(columns=column_names)\n",
    "    def add(self, row: list):\n",
    "        \"\"\"Adds a row to the df\"\"\"\n",
    "        self.df.loc[len(self.df)] = row\n",
    "    def save(self, name: str = \"dataframe\", path: str = path[0], overwrite=False):\n",
    "        \"\"\"save df as name to path\"\"\"\n",
    "        if os.path.exists(f\"{path}/{name}.csv\") and not overwrite:\n",
    "            print(\"File already exists, enable overwrite to save and overwrite\")\n",
    "            return\n",
    "        self.df.to_csv(f\"{path}/{name}.csv\", index=False)\n",
    "    def load(self,  name: str = \"dataframe\", path: str = path[0]):\n",
    "        \"\"\"load df from path/name\"\"\"\n",
    "        if os.path.exists(f\"{path}/{name}.csv\"):\n",
    "            self.df = pd.read_csv(f\"{path}/{name}.csv\")\n",
    "        else:\n",
    "            print(\"path/name doesn't exist\")\n",
    "    def clear(self):\n",
    "        \"\"\"clears all the rows of data\"\"\"\n",
    "        self.df = pd.DataFrame(columns=self.df.columns)\n",
    "    def all_csv():\n",
    "        all_files = os.listdir(path[0])\n",
    "        return [file for file in all_files if file.endswith(\".csv\")]\n",
    "    \n",
    "class inherit_data_manager(data_manager):\n",
    "    def __init__(self, column_names: np.array = []):\n",
    "        super().__init__(column_names)"
   ]
  }
 ],
 "metadata": {
  "language_info": {
   "name": "python"
  },
  "orig_nbformat": 4
 },
 "nbformat": 4,
 "nbformat_minor": 2
}
