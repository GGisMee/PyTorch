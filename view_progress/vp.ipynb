{
 "cells": [
  {
   "cell_type": "code",
   "execution_count": null,
   "metadata": {},
   "outputs": [],
   "source": [
    "# Initialize\n",
    "import pandas as pd\n",
    "from sys import path\n",
    "df = pd.read_csv(f\"{path[0]}/long.csv\")\n",
    "df = pd.read_csv(f\"{path[0]}/short.csv\")\n"
   ]
  },
  {
   "cell_type": "code",
   "execution_count": 4,
   "metadata": {},
   "outputs": [],
   "source": [
    "def add_long_data(train_loss, train_acc, test_loss, test_acc): # för att testa skillnader i optimering av modellen\n",
    "    df.loc[len(df)] = [train_loss, train_acc, test_loss, test_acc]\n",
    "    df.to_csv(f\"{path[0]}/long.csv\", index=False)\n",
    "add_long_data(10, 10, 10, 10)"
   ]
  },
  {
   "cell_type": "code",
   "execution_count": null,
   "metadata": {},
   "outputs": [],
   "source": [
    "def add_short_data(train_loss, train_acc, test_loss, test_acc): # för att testa skillnader i en epochs cykel av modellen\n",
    "    df.loc[len(df)] = [train_loss, train_acc, test_loss, test_acc]\n",
    "    df.to_csv(f\"{path[0]}/short.csv\", index=False)"
   ]
  },
  {
   "cell_type": "code",
   "execution_count": null,
   "metadata": {},
   "outputs": [],
   "source": [
    "def plot_change"
   ]
  }
 ],
 "metadata": {
  "kernelspec": {
   "display_name": "Python 3",
   "language": "python",
   "name": "python3"
  },
  "language_info": {
   "codemirror_mode": {
    "name": "ipython",
    "version": 3
   },
   "file_extension": ".py",
   "mimetype": "text/x-python",
   "name": "python",
   "nbconvert_exporter": "python",
   "pygments_lexer": "ipython3",
   "version": "3.11.4"
  },
  "orig_nbformat": 4
 },
 "nbformat": 4,
 "nbformat_minor": 2
}
