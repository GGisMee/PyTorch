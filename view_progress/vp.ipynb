{
 "cells": [
  {
   "cell_type": "code",
   "execution_count": 4,
   "metadata": {},
   "outputs": [],
   "source": [
    "# Initialize\n",
    "import pandas as pd\n",
    "import numpy as np\n",
    "from sys import path\n",
    "import matplotlib.pyplot as plt\n",
    "df = pd.read_csv(f\"{path[0]}/data.csv\")\n"
   ]
  },
  {
   "cell_type": "code",
   "execution_count": 5,
   "metadata": {},
   "outputs": [],
   "source": [
    "def add_data(train_loss, train_acc, test_loss, test_acc, name): # för att testa skillnader i optimering av modellen\n",
    "    df.loc[len(df)] = [train_loss, train_acc, test_loss, test_acc, name]\n",
    "    df.to_csv(f\"{path[0]}/data.csv\", index=False)\n",
    "add_data(13, 50,89, 50, \"frsst\")"
   ]
  },
  {
   "cell_type": "code",
   "execution_count": null,
   "metadata": {},
   "outputs": [],
   "source": [
    "def display(scatter=True, width=20):\n",
    "    name = np.array(df[\"name\"])\n",
    "    train_loss = np.array(df[\"train_loss\"])\n",
    "    train_acc = np.array(df[\"train_acc\"])\n",
    "    test_loss = np.array(df[\"test_loss\"])\n",
    "    test_acc = np.array(df[\"test_acc\"])\n",
    "\n",
    "    labels = [\"Train loss\", \"Train accuracy\", \"Test loss\", \"Test accuracy\"]\n",
    "    label_colors = ['red', 'green', 'blue', 'orange']\n",
    "    plt.figure(figsize=(12,6))\n",
    "\n",
    "    if scatter:\n",
    "        plt.scatter(name, train_loss, c=label_colors[0], s=width*10)\n",
    "        plt.scatter(name, train_acc, c=label_colors[1], s=width*10)\n",
    "        plt.scatter(name, test_loss, c=label_colors[2], s=width*10)\n",
    "        plt.scatter(name, test_acc, c=label_colors[3], s=width*10)\n",
    "        plt.title(\"Plot of accuracy and loss\")\n",
    "\n",
    "        # legend_elements = [plt.Line2D([0], [0], marker='o', color='w', label=label, markerfacecolor='C0', markersize=10) for label in labels]\n",
    "        legend_elements = [plt.Line2D([0], [0], marker='o', color='w', label=label, markerfacecolor=color, markersize=10) for label, color in zip(labels, label_colors)]\n",
    "        plt.legend(handles=legend_elements, title=\"Labels\", loc='upper left')\n",
    "    else:\n",
    "        plt.plot(name, train_loss, color=label_colors[0], linewidth=width)\n",
    "        plt.plot(name, train_acc, color=label_colors[1], linewidth=width)\n",
    "        plt.plot(name, test_loss, color=label_colors[2], linewidth=width)\n",
    "        plt.plot(name, test_acc, color=label_colors[3], linewidth=width)\n",
    "    plt.show()\n"
   ]
  }
 ],
 "metadata": {
  "kernelspec": {
   "display_name": "Python 3",
   "language": "python",
   "name": "python3"
  },
  "language_info": {
   "codemirror_mode": {
    "name": "ipython",
    "version": 3
   },
   "file_extension": ".py",
   "mimetype": "text/x-python",
   "name": "python",
   "nbconvert_exporter": "python",
   "pygments_lexer": "ipython3",
   "version": "3.11.4"
  },
  "orig_nbformat": 4
 },
 "nbformat": 4,
 "nbformat_minor": 2
}
