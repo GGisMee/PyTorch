{
 "cells": [
  {
   "cell_type": "code",
   "execution_count": 33,
   "metadata": {},
   "outputs": [],
   "source": [
    "# Initialize\n",
    "import pandas as pd\n",
    "import numpy as np\n",
    "from sys import path\n",
    "long_df = pd.read_csv(f\"{path[0]}/long.csv\")\n",
    "short_df = pd.read_csv(f\"{path[0]}/short.csv\")\n"
   ]
  },
  {
   "cell_type": "code",
   "execution_count": 29,
   "metadata": {},
   "outputs": [],
   "source": [
    "def add_long_data(train_loss, train_acc, test_loss, test_acc, name): # för att testa skillnader i optimering av modellen\n",
    "    long_df.loc[len(long_df)] = [train_loss, train_acc, test_loss, test_acc, name]\n",
    "    long_df.to_csv(f\"{path[0]}/long.csv\", index=False)\n",
    "add_long_data(13, 50,89, 50, \"frsst\")"
   ]
  },
  {
   "cell_type": "code",
   "execution_count": 28,
   "metadata": {},
   "outputs": [],
   "source": [
    "def add_short_data(train_loss, train_acc, test_loss, test_acc, epoch): # för att testa skillnader i en epochs cykel av modellen\n",
    "    short_df.loc[len(short_df)] = [train_loss, train_acc, test_loss, test_acc, epoch]\n",
    "    short_df.to_csv(f\"{path[0]}/short.csv\", index=False) # epoch ska vara y axelns värden, kanske kan göra det på add_long_data med"
   ]
  },
  {
   "cell_type": "code",
   "execution_count": null,
   "metadata": {},
   "outputs": [],
   "source": []
  },
  {
   "cell_type": "code",
   "execution_count": 39,
   "metadata": {},
   "outputs": [],
   "source": [
    "def display_long():\n",
    "    name = np.array(long_df[\"name\"])\n",
    "    train_loss = np.array(long_df[\"train_loss\"])\n",
    "    train_acc = np.array(long_df[\"train_acc\"])\n",
    "    test_loss = np.array(long_df[\"test_loss\"])\n",
    "    test_acc = np.array(long_df[\"test_acc\"])\n",
    "\n",
    "display_long()"
   ]
  }
 ],
 "metadata": {
  "kernelspec": {
   "display_name": "Python 3",
   "language": "python",
   "name": "python3"
  },
  "language_info": {
   "codemirror_mode": {
    "name": "ipython",
    "version": 3
   },
   "file_extension": ".py",
   "mimetype": "text/x-python",
   "name": "python",
   "nbconvert_exporter": "python",
   "pygments_lexer": "ipython3",
   "version": "3.11.4"
  },
  "orig_nbformat": 4
 },
 "nbformat": 4,
 "nbformat_minor": 2
}
