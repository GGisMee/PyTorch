{
 "cells": [
  {
   "cell_type": "code",
   "execution_count": 2,
   "metadata": {},
   "outputs": [],
   "source": [
    "import numpy as np\n",
    "import pandas as pd\n",
    "import os\n",
    "from sys import path\n",
    "import matplotlib.pyplot as plt\n"
   ]
  },
  {
   "cell_type": "code",
   "execution_count": 19,
   "metadata": {},
   "outputs": [],
   "source": [
    "class data_manager:\n",
    "    def __init__(self, column_names: np.array = []):\n",
    "        \"\"\"A progress data manager\"\"\"\n",
    "        self.df = pd.DataFrame(columns=column_names)\n",
    "    def add(self, row: np.array):\n",
    "        \"\"\"Adds a row to the df\"\"\"\n",
    "        self.df.loc[len(self.df)] = row\n",
    "\n",
    "    def save(self, name: str = \"dataframe\", path: str = path[0], overwrite=False):\n",
    "        \"\"\"save df as name to path\"\"\"\n",
    "        if os.path.exists(f\"{path}/{name}.csv\") and not overwrite:\n",
    "            print(\"File already exists, enable overwrite to save and overwrite\")\n",
    "            return\n",
    "        self.df.to_csv(f\"{path}/{name}.csv\", index=False)\n",
    "    def load(self,  name: str = \"dataframe\", path: str = path[0]):\n",
    "        \"\"\"load df from path/name\"\"\"\n",
    "        if os.path.exists(f\"{path}/{name}.csv\"):\n",
    "            self.df = pd.read_csv(f\"{path}/{name}.csv\")\n",
    "        else:\n",
    "            print(\"path/name doesn't exist\")"
   ]
  },
  {
   "cell_type": "code",
   "execution_count": 25,
   "metadata": {},
   "outputs": [
    {
     "ename": "TypeError",
     "evalue": "visualize.__init__() missing 1 required positional argument: 'df'",
     "output_type": "error",
     "traceback": [
      "\u001b[1;31m---------------------------------------------------------------------------\u001b[0m",
      "\u001b[1;31mTypeError\u001b[0m                                 Traceback (most recent call last)",
      "Cell \u001b[1;32mIn[25], line 5\u001b[0m\n\u001b[0;32m      3\u001b[0m         \u001b[39msuper\u001b[39m()\u001b[39m.\u001b[39m\u001b[39m__init__\u001b[39m()\n\u001b[0;32m      4\u001b[0m         \u001b[39mprint\u001b[39m(df)\n\u001b[1;32m----> 5\u001b[0m visualize()\n",
      "\u001b[1;31mTypeError\u001b[0m: visualize.__init__() missing 1 required positional argument: 'df'"
     ]
    }
   ],
   "source": [
    "class visualize(data_manager):\n",
    "    \n",
    "\n"
   ]
  },
  {
   "cell_type": "code",
   "execution_count": 20,
   "metadata": {},
   "outputs": [
    {
     "ename": "AttributeError",
     "evalue": "'visualize' object has no attribute 'df'",
     "output_type": "error",
     "traceback": [
      "\u001b[1;31m---------------------------------------------------------------------------\u001b[0m",
      "\u001b[1;31mAttributeError\u001b[0m                            Traceback (most recent call last)",
      "Cell \u001b[1;32mIn[20], line 5\u001b[0m\n\u001b[0;32m      3\u001b[0m \u001b[39m#ds_obj.visualize.line()\u001b[39;00m\n\u001b[0;32m      4\u001b[0m inr \u001b[39m=\u001b[39m ds_obj\u001b[39m.\u001b[39mvisualize()\n\u001b[1;32m----> 5\u001b[0m inr\u001b[39m.\u001b[39;49mline()\n",
      "Cell \u001b[1;32mIn[19], line 24\u001b[0m, in \u001b[0;36mdata_manager.visualize.line\u001b[1;34m(self)\u001b[0m\n\u001b[0;32m     23\u001b[0m \u001b[39mdef\u001b[39;00m \u001b[39mline\u001b[39m(\u001b[39mself\u001b[39m):\n\u001b[1;32m---> 24\u001b[0m     \u001b[39mprint\u001b[39m(\u001b[39mself\u001b[39;49m\u001b[39m.\u001b[39;49mdf)\n",
      "\u001b[1;31mAttributeError\u001b[0m: 'visualize' object has no attribute 'df'"
     ]
    }
   ],
   "source": [
    "ds_obj = data_manager([])\n",
    "ds_obj.load()\n",
    "#ds_obj.visualize.line()\n",
    "inr = ds_obj.visualize()\n",
    "inr.line()"
   ]
  }
 ],
 "metadata": {
  "kernelspec": {
   "display_name": "Python 3",
   "language": "python",
   "name": "python3"
  },
  "language_info": {
   "codemirror_mode": {
    "name": "ipython",
    "version": 3
   },
   "file_extension": ".py",
   "mimetype": "text/x-python",
   "name": "python",
   "nbconvert_exporter": "python",
   "pygments_lexer": "ipython3",
   "version": "3.11.4"
  },
  "orig_nbformat": 4
 },
 "nbformat": 4,
 "nbformat_minor": 2
}
