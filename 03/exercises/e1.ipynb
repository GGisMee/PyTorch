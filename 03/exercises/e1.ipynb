{
 "cells": [
  {
   "cell_type": "code",
   "execution_count": 1,
   "metadata": {},
   "outputs": [
    {
     "name": "stdout",
     "output_type": "stream",
     "text": [
      "c:/Users/22gusgam/Desktop/k/PyTorch/03/exercises/03_pytorch_computer_vision_exercises.ipynb already exists\n",
      "c:/Users/22gusgam/Desktop/k/PyTorch/03/exercises/ml_funcs.py already exists\n",
      "c:/Users/22gusgam/Desktop/k/PyTorch/03/exercises/helper_functions.py already exists\n",
      "PyTorch version: 2.0.1+cu118\n"
     ]
    },
    {
     "name": "stderr",
     "output_type": "stream",
     "text": [
      "C:\\Users\\22gusgam\\AppData\\Local\\Packages\\PythonSoftwareFoundation.Python.3.11_qbz5n2kfra8p0\\LocalCache\\local-packages\\Python311\\site-packages\\torchaudio\\backend\\utils.py:74: UserWarning: No audio backend is available.\n",
      "  warnings.warn(\"No audio backend is available.\")\n"
     ]
    }
   ],
   "source": [
    "from importLib import import_from_github, import_from_github_using_path\n",
    "# imported tutorial\n",
    "import_from_github(r\"https://raw.githubusercontent.com/mrdbourke/pytorch-deep-learning/main/extras/exercises/03_pytorch_computer_vision_exercises.ipynb\")\n",
    "import_from_github(\"https://raw.githubusercontent.com/GGisMee/PyLibraries/main/ml_toolkit/ml_funcs.py\")\n",
    "import_from_github('https://raw.githubusercontent.com/GGisMee/PyLibraries/main/ml_toolkit/helper_functions.py')\n",
    "# libraries\n",
    "import torch as pt\n",
    "print(f\"PyTorch version: {pt.__version__}\")\n",
    "\n",
    "device = 'cuda' if pt.cuda.is_available() else 'cpu'\n",
    "\n",
    "import ml_funcs as mlf\n",
    "import torchmetrics as tm\n",
    "import torchvision as tv\n"
   ]
  },
  {
   "cell_type": "markdown",
   "metadata": {},
   "source": [
    "##### QNA"
   ]
  },
  {
   "cell_type": "markdown",
   "metadata": {},
   "source": [
    "What are 3 areas in industry where computer vision is currently being used?\n",
    "1. Tesla autopilot\n",
    "2. Face recogition\n",
    "3. herbs and plants recognition (i.e telling which the name of plants from photos)"
   ]
  },
  {
   "cell_type": "markdown",
   "metadata": {},
   "source": [
    "Search \"what is overfitting in machine learning\" and write down a sentence about what you find. \n",
    "* It is when the module is to fitted on the current data and therefore doesn't react and produce reliable results on new data"
   ]
  },
  {
   "cell_type": "markdown",
   "metadata": {},
   "source": [
    "Search \"ways to prevent overfitting in machine learning\", write down 3 of the things you find and a sentence about each\n",
    "1. Decrease the Model Complexity\n",
    "2. Data Augmentation\n",
    "    - Technique of artificially increasing the training set by creating modified copies of a dataset using existing data\n",
    "3. Weight Regularization\n",
    "    - Technique in which slight modifications are made to the learning algorithm which in its turn makes the model generalize better"
   ]
  },
  {
   "cell_type": "markdown",
   "metadata": {},
   "source": [
    "### Load dataset Fer2013"
   ]
  },
  {
   "cell_type": "code",
   "execution_count": 2,
   "metadata": {},
   "outputs": [],
   "source": [
    "import torchvision as tv\n",
    "from torchvision.transforms import ToTensor\n",
    "import os\n",
    "train_data = tv.datasets.MNIST(root=f\"{os.getcwd()}/data\",\n",
    "                               train=True, \n",
    "                               transform=ToTensor(), \n",
    "                               target_transform=None,\n",
    "                               download=True\n",
    "                               )\n",
    "\n",
    "test_data = tv.datasets.MNIST(root=f\"{os.getcwd()}/data\",\n",
    "                              train=False, \n",
    "                              transform=ToTensor(), \n",
    "                              target_transform=None,\n",
    "                              download=True)\n",
    "\n",
    "import matplotlib.pyplot as plt\n",
    "import torchmetrics as tm\n"
   ]
  },
  {
   "cell_type": "code",
   "execution_count": 3,
   "metadata": {},
   "outputs": [
    {
     "name": "stdout",
     "output_type": "stream",
     "text": [
      "60000 10000\n"
     ]
    }
   ],
   "source": [
    "print(len(train_data), len(test_data))"
   ]
  },
  {
   "cell_type": "markdown",
   "metadata": {},
   "source": [
    "### Visualize data"
   ]
  },
  {
   "cell_type": "code",
   "execution_count": 4,
   "metadata": {},
   "outputs": [
    {
     "data": {
      "image/png": "[encoded data removed]",
      "text/plain": [
       "<Figure size 640x480 with 9 Axes>"
      ]
     },
     "metadata": {},
     "output_type": "display_data"
    }
   ],
   "source": [
    "nrows = 3\n",
    "ncols = 3\n",
    "nprod = nrows*ncols\n",
    "import random\n",
    "seed = True\n",
    "random.seed(42) if seed else None\n",
    "\n",
    "\n",
    "\n",
    "for i in range(nprod):\n",
    "    random_index = random.randint(0,len(train_data.targets))\n",
    "    plt.subplot(nrows, ncols, i+1)\n",
    "    plt.imshow(train_data.data[random_index].squeeze(0), cmap=\"gray\")\n",
    "    plt.axis(False)\n",
    "    plt.title(test_data.classes[train_data.targets[random_index]][3:]) \n",
    "\n",
    "plt.tight_layout(h_pad=0.5,w_pad=-10)\n",
    "plt.show()\n",
    "        \n",
    "\n"
   ]
  },
  {
   "cell_type": "markdown",
   "metadata": {},
   "source": [
    "### Turn MNIST to dataloaders"
   ]
  },
  {
   "cell_type": "code",
   "execution_count": 5,
   "metadata": {},
   "outputs": [],
   "source": [
    "from torch.utils.data import DataLoader\n",
    "pt.manual_seed(42)\n",
    "pt.cuda.manual_seed(42)\n",
    "test_dataloader = DataLoader(dataset=train_data, batch_size=32,shuffle=False)\n",
    "train_dataloader = DataLoader(dataset=test_data, batch_size=32,shuffle=True)"
   ]
  },
  {
   "cell_type": "code",
   "execution_count": 6,
   "metadata": {},
   "outputs": [
    {
     "data": {
      "text/plain": [
       "(torch.Size([32, 1, 28, 28]), torch.Size([32]))"
      ]
     },
     "execution_count": 6,
     "metadata": {},
     "output_type": "execute_result"
    }
   ],
   "source": [
    "train_features_batch, training_labels_batch = next(iter(train_dataloader))\n",
    "train_features_batch.shape, training_labels_batch.shape"
   ]
  },
  {
   "cell_type": "markdown",
   "metadata": {},
   "source": [
    "### Create Model"
   ]
  },
  {
   "cell_type": "code",
   "execution_count": 7,
   "metadata": {},
   "outputs": [],
   "source": [
    "from torch import nn\n",
    "class MNIST_Model_V0(nn.Module):\n",
    "    def __init__(self, input_shape:int, output_shape:int, hidden_units:int=10):\n",
    "        super().__init__()\n",
    "        self.conv_kernal_size = 3\n",
    "        self.conv_stride = 1\n",
    "        self.conv_padding = 1\n",
    "        self.MaxPool_kernal_size = 2\n",
    "\n",
    "        self.output_shape = output_shape\n",
    "        self.hidden_units = hidden_units\n",
    "\n",
    "        self.conv_block_1 = nn.Sequential(\n",
    "            nn.Conv2d(input_shape,hidden_units, \n",
    "                      kernel_size=self.conv_kernal_size,stride=self.conv_stride, padding=self.conv_padding),\n",
    "            nn.ReLU(),\n",
    "\n",
    "            nn.Conv2d(hidden_units, hidden_units,\n",
    "                      kernel_size=self.conv_kernal_size, stride=self.conv_stride, padding=self.conv_padding),\n",
    "            nn.ReLU(),\n",
    "            nn.MaxPool2d(kernel_size=self.MaxPool_kernal_size)\n",
    "        )\n",
    "        self.conv_block_2 = nn.Sequential(\n",
    "            nn.Conv2d(hidden_units, hidden_units,\n",
    "                      kernel_size=self.conv_kernal_size, stride=self.conv_stride, padding=self.conv_padding),\n",
    "            nn.ReLU(),\n",
    "\n",
    "            nn.Conv2d(hidden_units, hidden_units,\n",
    "                      kernel_size=self.conv_kernal_size, stride=self.conv_stride, padding=self.conv_padding),\n",
    "            nn.ReLU(),\n",
    "            nn.MaxPool2d(kernel_size=self.MaxPool_kernal_size)\n",
    "        )\n",
    "    def forward(self,X:pt.Tensor) -> pt.Tensor:\n",
    "        X_change = self.conv_block_1(X)\n",
    "        X_change = self.conv_block_2(X_change)\n",
    "        #print(f\"Original: {X_change.shape}\")\n",
    "        new_hidden_units = (pt.tensor(X_change.shape)[1:].prod().item())\n",
    "        #print(f\"New hidden units: {new_hidden_units}\")\n",
    "        self.classifier = nn.Sequential(\n",
    "            nn.Flatten(),\n",
    "            nn.Linear(new_hidden_units,self.output_shape)\n",
    "        )\n",
    "        return self.classifier(X_change)"
   ]
  },
  {
   "cell_type": "code",
   "execution_count": 8,
   "metadata": {},
   "outputs": [
    {
     "data": {
      "text/plain": [
       "MNIST_Model_V0(\n",
       "  (conv_block_1): Sequential(\n",
       "    (0): Conv2d(1, 10, kernel_size=(3, 3), stride=(1, 1), padding=(1, 1))\n",
       "    (1): ReLU()\n",
       "    (2): Conv2d(10, 10, kernel_size=(3, 3), stride=(1, 1), padding=(1, 1))\n",
       "    (3): ReLU()\n",
       "    (4): MaxPool2d(kernel_size=2, stride=2, padding=0, dilation=1, ceil_mode=False)\n",
       "  )\n",
       "  (conv_block_2): Sequential(\n",
       "    (0): Conv2d(10, 10, kernel_size=(3, 3), stride=(1, 1), padding=(1, 1))\n",
       "    (1): ReLU()\n",
       "    (2): Conv2d(10, 10, kernel_size=(3, 3), stride=(1, 1), padding=(1, 1))\n",
       "    (3): ReLU()\n",
       "    (4): MaxPool2d(kernel_size=2, stride=2, padding=0, dilation=1, ceil_mode=False)\n",
       "  )\n",
       ")"
      ]
     },
     "execution_count": 8,
     "metadata": {},
     "output_type": "execute_result"
    }
   ],
   "source": [
    "model0 = MNIST_Model_V0(input_shape=1, output_shape=len(train_data.classes), hidden_units=10).to(device)\n",
    "model0"
   ]
  },
  {
   "cell_type": "markdown",
   "metadata": {},
   "source": [
    "### Test using random Tensor"
   ]
  },
  {
   "cell_type": "code",
   "execution_count": 9,
   "metadata": {},
   "outputs": [
    {
     "data": {
      "text/plain": [
       "tensor([[ 0.0268, -0.0517, -0.0658,  0.1360, -0.0435,  0.0482, -0.0251,  0.0862,\n",
       "          0.0426,  0.0905],\n",
       "        [ 0.0344, -0.0594, -0.0656,  0.1347, -0.0363,  0.0359, -0.0121,  0.0911,\n",
       "          0.0491,  0.0893],\n",
       "        [ 0.0556, -0.0939, -0.0633,  0.1322, -0.0127,  0.0078,  0.0215,  0.1067,\n",
       "          0.0741,  0.0859],\n",
       "        [ 0.0275, -0.0529, -0.0644,  0.1378, -0.0435,  0.0477, -0.0274,  0.0855,\n",
       "          0.0440,  0.0882],\n",
       "        [ 0.0739, -0.1185, -0.0621,  0.1364,  0.0124, -0.0112,  0.0454,  0.1210,\n",
       "          0.0992,  0.0836],\n",
       "        [ 0.0268, -0.0517, -0.0658,  0.1360, -0.0435,  0.0482, -0.0251,  0.0862,\n",
       "          0.0426,  0.0905],\n",
       "        [ 0.0345, -0.0671, -0.0565,  0.1387, -0.0279,  0.0331, -0.0096,  0.0876,\n",
       "          0.0571,  0.0807],\n",
       "        [ 0.0268, -0.0517, -0.0658,  0.1360, -0.0435,  0.0482, -0.0251,  0.0862,\n",
       "          0.0426,  0.0905],\n",
       "        [ 0.0268, -0.0517, -0.0658,  0.1360, -0.0435,  0.0482, -0.0251,  0.0862,\n",
       "          0.0426,  0.0905],\n",
       "        [ 0.0547, -0.0872, -0.0550,  0.1342, -0.0125,  0.0139,  0.0147,  0.1004,\n",
       "          0.0704,  0.0876]], grad_fn=<AddmmBackward0>)"
      ]
     },
     "execution_count": 9,
     "metadata": {},
     "output_type": "execute_result"
    }
   ],
   "source": [
    "rand_tensor = pt.rand((1,28,28))\n",
    "model0(rand_tensor)"
   ]
  },
  {
   "cell_type": "markdown",
   "metadata": {},
   "source": [
    "### Setup optimizer, loss function and accuracy function "
   ]
  },
  {
   "cell_type": "code",
   "execution_count": 10,
   "metadata": {},
   "outputs": [],
   "source": [
    "\n",
    "optimizer = pt.optim.SGD(params=model0.parameters(), lr=0.1)\n",
    "\n",
    "accuracy_fn = tm.Accuracy('multiclass',num_classes=len(train_data.classes))\n",
    "\n",
    "loss_fn = nn.CrossEntropyLoss()"
   ]
  },
  {
   "cell_type": "markdown",
   "metadata": {},
   "source": [
    "### Train model "
   ]
  },
  {
   "cell_type": "code",
   "execution_count": 11,
   "metadata": {},
   "outputs": [
    {
     "data": {
      "application/vnd.jupyter.widget-view+json": {
       "model_id": "938f05761c9c4bf3a065686625143b42",
       "version_major": 2,
       "version_minor": 0
      },
      "text/plain": [
       "Epoch loops:   0%|          | 0/3 [00:00<?, ?it/s]"
      ]
     },
     "metadata": {},
     "output_type": "display_data"
    },
    {
     "name": "stdout",
     "output_type": "stream",
     "text": [
      "Epoch: 0\n",
      "----------\n",
      "train loss: 2.303314447402954, train accuracy: 0.09874201565980911\n",
      "Test loss: 2.3030, Test acc: 0.0996\n",
      "Epoch: 1\n",
      "----------\n",
      "train loss: 2.3030121326446533, train accuracy: 0.09854233264923096\n",
      "Test loss: 2.3028, Test acc: 0.1007\n",
      "Epoch: 2\n",
      "----------\n",
      "train loss: 2.302891254425049, train accuracy: 0.09704472869634628\n",
      "Test loss: 2.3030, Test acc: 0.0984\n",
      "\n",
      "Train time on cpu: 84.611 seconds\n"
     ]
    }
   ],
   "source": [
    "from helper_functions import set_seeds\n",
    "from timeit import default_timer as timer\n",
    "from tqdm.auto import tqdm\n",
    "start = timer()\n",
    "set_seeds(42)\n",
    "epochs = 5\n",
    "\n",
    "for epoch in tqdm(range(epochs), desc=\"Epoch loops\"):\n",
    "    print(f\"Epoch: {epoch}\\n----------\")\n",
    "    mlf.Model_operations.train_step(model0, train_dataloader, optimizer, loss_fn, accuracy_fn, device,show=True)\n",
    "    mlf.Model_operations.test_step(model0, test_dataloader, loss_fn, accuracy_fn, device,show=True)\n",
    "\n",
    "\n",
    "time = mlf.time_func(start, device)"
   ]
  },
  {
   "cell_type": "code",
   "execution_count": 12,
   "metadata": {},
   "outputs": [
    {
     "data": {
      "text/plain": [
       "{'model_name': 'MNIST_Model_V0',\n",
       " 'model_loss': 2.3030247688293457,\n",
       " 'model_acc': tensor(0.0991)}"
      ]
     },
     "execution_count": 12,
     "metadata": {},
     "output_type": "execute_result"
    }
   ],
   "source": [
    "mlf.Model_operations.eval_model(model0, test_dataloader, loss_fn, accuracy_fn, device)"
   ]
  }
 ],
 "metadata": {
  "kernelspec": {
   "display_name": "Python 3",
   "language": "python",
   "name": "python3"
  },
  "language_info": {
   "codemirror_mode": {
    "name": "ipython",
    "version": 3
   },
   "file_extension": ".py",
   "mimetype": "text/x-python",
   "name": "python",
   "nbconvert_exporter": "python",
   "pygments_lexer": "ipython3",
   "version": "3.11.4"
  },
  "orig_nbformat": 4
 },
 "nbformat": 4,
 "nbformat_minor": 2
}
