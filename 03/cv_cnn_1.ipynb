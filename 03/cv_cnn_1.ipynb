{
 "cells": [
  {
   "cell_type": "code",
   "execution_count": 2,
   "metadata": {},
   "outputs": [
    {
     "name": "stderr",
     "output_type": "stream",
     "text": [
      "C:\\Users\\22gusgam\\AppData\\Local\\Packages\\PythonSoftwareFoundation.Python.3.11_qbz5n2kfra8p0\\LocalCache\\local-packages\\Python311\\site-packages\\torchaudio\\backend\\utils.py:74: UserWarning: No audio backend is available.\n",
      "  warnings.warn(\"No audio backend is available.\")\n"
     ]
    },
    {
     "name": "stdout",
     "output_type": "stream",
     "text": [
      "2.0.1+cu118\n",
      "0.15.2+cu118\n",
      "c:\\Users\\22gusgam\\Desktop\\k\\PyTorch\\03/helper_functions.py already exists\n",
      "c:\\Users\\22gusgam\\Desktop\\k\\PyTorch\\03/ml_funcs.py doesn't exist, download\n"
     ]
    },
    {
     "data": {
      "text/plain": [
       "'cpu'"
      ]
     },
     "execution_count": 2,
     "metadata": {},
     "output_type": "execute_result"
    }
   ],
   "source": [
    "# import necessary libraries\n",
    "\n",
    "# PyTorch based\n",
    "import torch as pt\n",
    "from torch import nn\n",
    "import torchvision as tv\n",
    "from torchvision import datasets\n",
    "from torchvision import transforms\n",
    "from torchvision.transforms import ToTensor # converts pil imag3e or np array to FloatTensor of shape (C x H x W)\n",
    "import torchmetrics as tm\n",
    "\n",
    "# Matplotlib for visualization\n",
    "import matplotlib.pyplot as plt\n",
    "\n",
    "print(pt.__version__)\n",
    "print(tv.__version__)\n",
    "\n",
    "\n",
    "import importLib\n",
    "importLib.import_from_github(\"https://raw.githubusercontent.com/GGisMee/PyTorch/main/ml_toolkit/helper_functions.py\")\n",
    "importLib.import_from_github(\"https://raw.githubusercontent.com/GGisMee/PyTorch/main/ml_toolkit/ml_funcs.py\")\n",
    "\n",
    "device = \"cuda\" if pt.cuda.is_available() else \"cpu\"\n",
    "device\n"
   ]
  },
  {
   "cell_type": "markdown",
   "metadata": {},
   "source": [
    "### 1. Getting a dataset\n",
    "\n",
    "The dataset we will be using is FashionMNIST from torchvision.datasets, (a dataset of gray scale images of clothing): https://pytorch.org/vision/main/datasets.html"
   ]
  },
  {
   "cell_type": "code",
   "execution_count": 3,
   "metadata": {},
   "outputs": [
    {
     "name": "stdout",
     "output_type": "stream",
     "text": [
      "c:\\Users\\22gusgam\\Desktop\\k\\PyTorch\\03\n"
     ]
    }
   ],
   "source": [
    "# Setup training data\n",
    "import os\n",
    "print(os.getcwd())\n",
    "train_data = datasets.FashionMNIST(\n",
    "    root=f\"{os.getcwd()}/data\", # where should the file be placed\n",
    "    train=True, # do we want to get the training dataset\n",
    "    download=True, # do we want to download the dataset\n",
    "    transform=ToTensor(), # how do we want to transform the data, \n",
    "    target_transform=None # how do we want to transform the labels/targets\n",
    "    )\n",
    "\n",
    "test_data = datasets.FashionMNIST(\n",
    "    root=f\"{os.getcwd()}/data\",\n",
    "    train=False,\n",
    "    download=True,\n",
    "    transform=ToTensor(),\n",
    "    target_transform=None\n",
    "    )"
   ]
  },
  {
   "cell_type": "code",
   "execution_count": 4,
   "metadata": {},
   "outputs": [
    {
     "name": "stdout",
     "output_type": "stream",
     "text": [
      "60000 10000\n"
     ]
    }
   ],
   "source": [
    "print(len(train_data),len(test_data))"
   ]
  },
  {
   "cell_type": "markdown",
   "metadata": {},
   "source": [
    "### Visualizing our dataset"
   ]
  },
  {
   "cell_type": "markdown",
   "metadata": {},
   "source": [
    "#### As numbers"
   ]
  },
  {
   "cell_type": "code",
   "execution_count": 5,
   "metadata": {},
   "outputs": [
    {
     "data": {
      "text/plain": [
       "torch.Size([60000, 28, 28])"
      ]
     },
     "execution_count": 5,
     "metadata": {},
     "output_type": "execute_result"
    }
   ],
   "source": [
    "train_data.data.shape # batch size of 60000"
   ]
  },
  {
   "cell_type": "code",
   "execution_count": 6,
   "metadata": {},
   "outputs": [
    {
     "data": {
      "text/plain": [
       "'Ankle boot'"
      ]
     },
     "execution_count": 6,
     "metadata": {},
     "output_type": "execute_result"
    }
   ],
   "source": [
    "# See the first training example\n",
    "image, label = train_data[0]\n",
    "class_names = train_data.classes\n",
    "class_names[label]"
   ]
  },
  {
   "cell_type": "code",
   "execution_count": 7,
   "metadata": {},
   "outputs": [
    {
     "data": {
      "text/plain": [
       "{'T-shirt/top': 0,\n",
       " 'Trouser': 1,\n",
       " 'Pullover': 2,\n",
       " 'Dress': 3,\n",
       " 'Coat': 4,\n",
       " 'Sandal': 5,\n",
       " 'Shirt': 6,\n",
       " 'Sneaker': 7,\n",
       " 'Bag': 8,\n",
       " 'Ankle boot': 9}"
      ]
     },
     "execution_count": 7,
     "metadata": {},
     "output_type": "execute_result"
    }
   ],
   "source": [
    "class_to_idx = train_data.class_to_idx\n",
    "class_to_idx"
   ]
  },
  {
   "cell_type": "code",
   "execution_count": 8,
   "metadata": {},
   "outputs": [
    {
     "name": "stdout",
     "output_type": "stream",
     "text": [
      "image shapetorch.Size([1, 28, 28]) -> [Color channels, height, width]\n",
      "image_label: Ankle boot\n"
     ]
    }
   ],
   "source": [
    "# Check the shape of our image\n",
    "print(f\"image shape{image.shape} -> [Color channels, height, width]\")\n",
    "print(f\"image_label: {class_names[label]}\")"
   ]
  },
  {
   "cell_type": "markdown",
   "metadata": {},
   "source": [
    "#### As pictures"
   ]
  },
  {
   "cell_type": "code",
   "execution_count": 9,
   "metadata": {},
   "outputs": [
    {
     "name": "stdout",
     "output_type": "stream",
     "text": [
      "image shape: torch.Size([1, 28, 28])\n"
     ]
    },
    {
     "data": {
      "text/plain": [
       "Text(0.5, 1.0, 'Ankle boot, 9')"
      ]
     },
     "execution_count": 9,
     "metadata": {},
     "output_type": "execute_result"
    },
    {
     "data": {
      "image/png": "[encoded data removed]",
      "text/plain": [
       "<Figure size 640x480 with 1 Axes>"
      ]
     },
     "metadata": {},
     "output_type": "display_data"
    }
   ],
   "source": [
    "image, label = train_data[0]\n",
    "print(f\"image shape: {image.shape}\")\n",
    "plt.imshow(image.squeeze(),cmap=plt.cm.gray)\n",
    "plt.title(f\"{class_names[label]}, {label}\")"
   ]
  },
  {
   "cell_type": "code",
   "execution_count": 10,
   "metadata": {},
   "outputs": [
    {
     "data": {
      "image/png": "[encoded data removed]",
      "text/plain": [
       "<Figure size 900x900 with 16 Axes>"
      ]
     },
     "metadata": {},
     "output_type": "display_data"
    }
   ],
   "source": [
    "# Plot more images\n",
    "\n",
    "#pt.manual_seed(42)\n",
    "fig = plt.figure(figsize=(9,9))\n",
    "rows, cols = 4, 4\n",
    "for i in range(1, rows*cols+1):\n",
    "    random_idx = pt.randint(0, len(train_data), size=[1]).item()\n",
    "    #print(random_idx,i)\n",
    "    img, label = train_data[random_idx]\n",
    "    fig.add_subplot(rows, cols, i)\n",
    "    plt.imshow(img.squeeze()) #, cmap=\"gray\"\n",
    "    plt.title(class_names[label])\n",
    "    plt.axis(False)"
   ]
  },
  {
   "cell_type": "markdown",
   "metadata": {},
   "source": [
    "Is non linearity necessary or not?"
   ]
  },
  {
   "cell_type": "markdown",
   "metadata": {},
   "source": [
    "### Prepare DataLoader"
   ]
  },
  {
   "cell_type": "markdown",
   "metadata": {},
   "source": [
    "Right now, our data is in the form of PyTorch Datasets\n",
    "\n",
    "DataLoaders turn our dataset into a Python iterable\n",
    "more specifically, we want to turn our data into batches i.e mini-batches\n",
    "\n",
    "Why do this?\n",
    "1. It is more computationally efficient, as your computer may not be able to store 60000 images at the same time, therefore we brake it down to ex 32 images at a time (batch size)\n",
    "2. it gives our nn more chances to update its gradient per epoch (update for each 32 images)"
   ]
  },
  {
   "cell_type": "code",
   "execution_count": 11,
   "metadata": {},
   "outputs": [],
   "source": [
    "from torch.utils.data import DataLoader\n",
    "\n",
    "# Setup the batch size hyperparameter\n",
    "BATCH_SIZE = 32\n",
    "\n",
    "# Turn datasets into a generator like BataLoader that generates batches\n",
    "train_dataloader = DataLoader(dataset=train_data, batch_size=32, shuffle=True) # shuffle = True gör att alla värden i arrayen blandas\n",
    "test_dataloader = DataLoader(dataset=test_data, batch_size=32, shuffle=False)\n",
    "\n",
    "\n",
    "\n"
   ]
  },
  {
   "cell_type": "code",
   "execution_count": 12,
   "metadata": {},
   "outputs": [
    {
     "name": "stdout",
     "output_type": "stream",
     "text": [
      "DataLoaders: (<torch.utils.data.dataloader.DataLoader object at 0x000001EC6813F2D0>, <torch.utils.data.dataloader.DataLoader object at 0x000001EC680FE790>)\n",
      "Length of train_dataloader: 1875 batches of 32\n",
      "Length of test_dataloader: 313 batches of 32\n"
     ]
    }
   ],
   "source": [
    "# Let's check out the dataloader\n",
    "print(f\"DataLoaders: {train_dataloader, test_dataloader}\")\n",
    "print(f\"Length of train_dataloader: {len(train_dataloader)} batches of {BATCH_SIZE}\")\n",
    "print(f\"Length of test_dataloader: {len(test_dataloader)} batches of {BATCH_SIZE}\")"
   ]
  },
  {
   "cell_type": "code",
   "execution_count": 13,
   "metadata": {},
   "outputs": [
    {
     "data": {
      "text/plain": [
       "(torch.Size([32, 1, 28, 28]), torch.Size([32]))"
      ]
     },
     "execution_count": 13,
     "metadata": {},
     "output_type": "execute_result"
    }
   ],
   "source": [
    "# Check out what's inside the training dataloader\n",
    "train_features_batch, training_labels_batch = next(iter(train_dataloader))\n",
    "train_features_batch.shape, training_labels_batch.shape\n",
    "# [32 batches, 1 color channel, 28 by, 28 pixels], 32 labels associated with the train_data"
   ]
  },
  {
   "cell_type": "code",
   "execution_count": 14,
   "metadata": {},
   "outputs": [
    {
     "data": {
      "text/plain": [
       "(-0.5, 27.5, 27.5, -0.5)"
      ]
     },
     "execution_count": 14,
     "metadata": {},
     "output_type": "execute_result"
    },
    {
     "data": {
      "image/png": "[encoded data removed]",
      "text/plain": [
       "<Figure size 640x480 with 1 Axes>"
      ]
     },
     "metadata": {},
     "output_type": "display_data"
    }
   ],
   "source": [
    "# Show a sample\n",
    "pt.manual_seed(42)\n",
    "random_idx = pt.randint(0, len(train_features_batch), size = [1]).item()\n",
    "img, label = train_features_batch[random_idx], training_labels_batch[random_idx]\n",
    "plt.imshow(img.squeeze())\n",
    "plt.title(class_names[label.item()])\n",
    "plt.axis(False)\n"
   ]
  },
  {
   "cell_type": "markdown",
   "metadata": {},
   "source": [
    "### Model 2: Building a Convolutional Neural Network (CNN)"
   ]
  },
  {
   "cell_type": "markdown",
   "metadata": {},
   "source": [
    "CNN's are also known as ConvNets\n",
    "\n",
    "CNN's are known for their capabilities to find patterns in visual data\n",
    "\n",
    "Typical architecture of CNN:\n",
    "Inputs -> ToTensor -> (CNN & ReLU & Pooling) layers -> output\n",
    "\n",
    "Great visualization and understanding tool:\n",
    "https://poloclub.github.io/cnn-explainer/"
   ]
  },
  {
   "cell_type": "markdown",
   "metadata": {},
   "source": [
    "**Note**\n",
    "> Explaination for different CNN Hyperparameters, Bättre visuel förklaring på länken ovan, eller: https://github.com/vdumoulin/conv_arithmetic/blob/master/README.md\n",
    "\n",
    "> Padding: På bilden läggs ett yttre tomt pixel lager på, vilket gör att output shapen blir från ex 4,4 till 5,5\n",
    "\n",
    "> Kernal Size: Storleken på den större rutan som går ihop till den mindre\n",
    "\n",
    "> Stride: gör att vissa pixlar i ett rutnät hoppas över i komprissionen"
   ]
  },
  {
   "cell_type": "code",
   "execution_count": 15,
   "metadata": {},
   "outputs": [],
   "source": [
    "# Create a convolutional neural network\n",
    "class FashionMNISTModelV2(nn.Module):\n",
    "    \"\"\"Module architecture that replicates the TinyVGG model from CNN explainer\"\"\"\n",
    "\n",
    "    def __init__(self, input_shape:int, hidden_units:int, output_shape:int):\n",
    "        super().__init__()\n",
    "        self.hidden_units = hidden_units\n",
    "        self.conv_block_1 = nn.Sequential(\n",
    "            # 2d för 2 dimensioner x,y\n",
    "            nn.Conv2d(in_channels=input_shape, out_channels=hidden_units, \n",
    "                      kernel_size=3, stride=1, padding=1), # Refered to as Hyperparameters, bc we can change them ourselves\n",
    "            nn.ReLU(),\n",
    "            nn.Conv2d(in_channels=hidden_units, out_channels=hidden_units, \n",
    "                      kernel_size=3, stride=1, padding=1),\n",
    "            nn.ReLU(),\n",
    "            # tar basically flera pixlar i en plupp och tar den med störst värde därav max\n",
    "            # antalet pixlar minskar därför, i slutet är alla lager är antalet pixlar kanske en 6 eller ännu mindre del av storleken på originalet \n",
    "            nn.MaxPool2d(kernel_size=2), \n",
    "        )\n",
    "        self.conv_block_2 = nn.Sequential(\n",
    "            # 2d för 2 dimensioner x,y\n",
    "            nn.Conv2d(in_channels=hidden_units, out_channels=hidden_units, \n",
    "                      kernel_size=3, stride=1, padding=1), # Refered to as Hyperparameters, bc we can change them ourselves\n",
    "            nn.ReLU(),\n",
    "            nn.Conv2d(in_channels=hidden_units, out_channels=hidden_units, \n",
    "                      kernel_size=3, stride=1, padding=1),\n",
    "            nn.ReLU(),\n",
    "            # tar basically flera pixlar i en plupp och tar den med störst värde därav max\n",
    "            # antalet pixlar minskar därför, i slutet är alla lager är antalet pixlar kanske en 6 eller ännu mindre del av storleken på originalet \n",
    "            nn.MaxPool2d(kernel_size=2), \n",
    "        )\n",
    "        self.classifier = nn.Sequential( \n",
    "            nn.Flatten(), # Denna krävs eftersom outputen är 2 dimensionel och shapen är [a,b,...?] och inte [a]\n",
    "            nn.Linear(hidden_units*49, output_shape) # eftersom shapen minskar hela tiden är det svårt att veta vad hidden_units är, men det finns ett trick\n",
    "        )\n",
    "\n",
    "    def forward(self, x:pt.Tensor) -> pt.Tensor:\n",
    "        x = self.conv_block_1(x)\n",
    "        #print(x.shape)\n",
    "        x = self.conv_block_2(x)\n",
    "        #print(f\"Multiply by: {int(pt.tensor(x.shape).prod().item()/self.hidden_units)}\")\n",
    "        x = self.classifier(x)\n",
    "        return x\n",
    "        # return self.classifier(self.conv_block_2(self.conv_block_1(x)))"
   ]
  },
  {
   "cell_type": "code",
   "execution_count": 16,
   "metadata": {},
   "outputs": [
    {
     "name": "stdout",
     "output_type": "stream",
     "text": [
      "Denna har 2 st channels med width och height:torch.Size([1, 28, 28])\n"
     ]
    }
   ],
   "source": [
    "# Instanciate our first model \n",
    "print(f\"Denna har 2 st channels med width och height:{image.shape}\")\n",
    "# annars kan den ha 3 st med color channel\n",
    "pt.manual_seed(42)\n",
    "model_2 = FashionMNISTModelV2(input_shape=1, hidden_units=10, output_shape=len(class_names)).to(device)\n",
    "#print(model_2)"
   ]
  },
  {
   "cell_type": "markdown",
   "metadata": {},
   "source": [
    "### Examplification of CNN layers"
   ]
  },
  {
   "cell_type": "markdown",
   "metadata": {},
   "source": [
    "#### Stepping through nn.Conv2d()"
   ]
  },
  {
   "cell_type": "code",
   "execution_count": 17,
   "metadata": {},
   "outputs": [
    {
     "name": "stdout",
     "output_type": "stream",
     "text": [
      "Image batch shape: torch.Size([32, 3, 64, 64])\n",
      "Single Image shape: torch.Size([3, 64, 64])\n"
     ]
    }
   ],
   "source": [
    "pt.manual_seed(42)\n",
    "\n",
    "# Create a batch of images\n",
    "images = pt.rand(size=(32, 3, 64,64))\n",
    "test_image = images[0]\n",
    "print(f\"Image batch shape: {images.shape}\")\n",
    "print(f\"Single Image shape: {test_image.shape}\")\n",
    "#print(f\"Test Image: {test_image}\")"
   ]
  },
  {
   "cell_type": "code",
   "execution_count": 18,
   "metadata": {},
   "outputs": [
    {
     "name": "stdout",
     "output_type": "stream",
     "text": [
      "torch.Size([3, 64, 64]) -> torch.Size([10, 62, 62])\n"
     ]
    }
   ],
   "source": [
    "pt.manual_seed(42)\n",
    "# Create a single conv2d layer\n",
    "conv_layer = nn.Conv2d(in_channels=3, out_channels=10, kernel_size=3, stride=1, padding=0)\n",
    "\n",
    "# Pass the data through the cocnvolutional layer\n",
    "conv_output = conv_layer(test_image)\n",
    "print(f\"{test_image.shape} -> {conv_output.shape}\")\n"
   ]
  },
  {
   "cell_type": "markdown",
   "metadata": {},
   "source": [
    "#### Steping through nn.MaxPool2d():"
   ]
  },
  {
   "cell_type": "code",
   "execution_count": 19,
   "metadata": {},
   "outputs": [
    {
     "name": "stdout",
     "output_type": "stream",
     "text": [
      "Before MaxPool2d: torch.Size([3, 64, 64])\n",
      "After: torch.Size([3, 21, 21])\n",
      "\n",
      "The amount of x,y pixels are devided by the kernal_size as they are compressed: 21\n"
     ]
    }
   ],
   "source": [
    "kernal_size_v = 3\n",
    "# Print out original image shape\n",
    "print(f\"Before MaxPool2d: {test_image.shape}\")\n",
    "\n",
    "max_pool_layer = nn.MaxPool2d(kernel_size=kernal_size_v)\n",
    "\n",
    "print(f\"After: {max_pool_layer(test_image).shape}\")\n",
    "print()\n",
    "print(f\"The amount of x,y pixels are devided by the kernal_size as they are compressed: {64//kernal_size_v}\")"
   ]
  },
  {
   "cell_type": "code",
   "execution_count": 20,
   "metadata": {},
   "outputs": [
    {
     "name": "stdout",
     "output_type": "stream",
     "text": [
      "Original: tensor([[[0.3865, 0.2003],\n",
      "         [0.4563, 0.2539]]])\n",
      "Resulting: tensor([[[0.4563]]])\n"
     ]
    }
   ],
   "source": [
    "random_tensor = pt.rand(size=(1,2,2))\n",
    "print(f\"Original: {random_tensor}\")\n",
    "max_pool_layer_2 = nn.MaxPool2d(kernel_size=2)\n",
    "resulting_tensor = max_pool_layer_2(random_tensor)\n",
    "print(f\"Resulting: {resulting_tensor}\")"
   ]
  },
  {
   "cell_type": "markdown",
   "metadata": {},
   "source": [
    "### Testing model"
   ]
  },
  {
   "cell_type": "code",
   "execution_count": 21,
   "metadata": {},
   "outputs": [
    {
     "data": {
      "text/plain": [
       "tensor([[ 0.0338, -0.0729,  0.0573, -0.0421, -0.0076,  0.0201,  0.0026, -0.0134,\n",
       "          0.0221,  0.0005]], grad_fn=<AddmmBackward0>)"
      ]
     },
     "execution_count": 21,
     "metadata": {},
     "output_type": "execute_result"
    }
   ],
   "source": [
    "import torch as pt\n",
    "\n",
    "\n",
    "dummy_batch = pt.rand(size=(1,28, 28))\n",
    "model_2(dummy_batch.unsqueeze(0))\n"
   ]
  },
  {
   "cell_type": "markdown",
   "metadata": {},
   "source": [
    "### Setup loss and optimizer functions"
   ]
  },
  {
   "cell_type": "code",
   "execution_count": 22,
   "metadata": {},
   "outputs": [],
   "source": [
    "from helper_functions import accuracy_fn\n",
    "\n",
    "loss_fn = nn.CrossEntropyLoss()\n",
    "\n",
    "Optimizer = pt.optim.SGD(params=model_2.parameters(), lr=0.1)"
   ]
  },
  {
   "cell_type": "markdown",
   "metadata": {},
   "source": [
    "### Training and testing model_2 using trian and test functions"
   ]
  },
  {
   "cell_type": "code",
   "execution_count": 23,
   "metadata": {},
   "outputs": [
    {
     "data": {
      "application/vnd.jupyter.widget-view+json": {
       "model_id": "e2390c798e1748debc730d56c39913f8",
       "version_major": 2,
       "version_minor": 0
      },
      "text/plain": [
       "  0%|          | 0/3 [00:00<?, ?it/s]"
      ]
     },
     "metadata": {},
     "output_type": "display_data"
    },
    {
     "name": "stdout",
     "output_type": "stream",
     "text": [
      "Epoch: 0\n",
      "----------\n"
     ]
    },
    {
     "name": "stdout",
     "output_type": "stream",
     "text": [
      "train loss: 0.5914061665534973, train accuracy: 78.505\n",
      "Test loss: 0.3914, Test acc: 85.8926\n",
      "Epoch: 1\n",
      "----------\n",
      "train loss: 0.36051449179649353, train accuracy: 87.16333333333333\n",
      "Test loss: 0.3492, Test acc: 87.1106\n",
      "Epoch: 2\n",
      "----------\n",
      "train loss: 0.3226599395275116, train accuracy: 88.23333333333333\n",
      "Test loss: 0.3206, Test acc: 88.4784\n",
      "\n",
      "Train time on cpu: 139.665 seconds\n"
     ]
    }
   ],
   "source": [
    "from helper_functions import print_train_time\n",
    "from ml_funcs import Model_operations\n",
    "from timeit import default_timer as timer\n",
    "start = timer()\n",
    "from tqdm.auto import tqdm\n",
    "pt.manual_seed(42)\n",
    "pt.cuda.manual_seed(42)\n",
    "\n",
    "epochs = 3\n",
    "for epoch in tqdm(range(epochs)):\n",
    "    print(f\"Epoch: {epoch}\")\n",
    "    print(\"----------\")\n",
    "    (Model_operations.train_step(model_2, train_dataloader, Optimizer, loss_fn, accuracy_fn, device,True))\n",
    "    (Model_operations.test_step(model_2, test_dataloader, loss_fn, accuracy_fn,device,True))\n",
    "\n",
    "time = print_train_time(start,timer(), device)\n"
   ]
  },
  {
   "cell_type": "code",
   "execution_count": 25,
   "metadata": {},
   "outputs": [
    {
     "ename": "TypeError",
     "evalue": "Model_operations.eval_model() takes 5 positional arguments but 6 were given",
     "output_type": "error",
     "traceback": [
      "\u001b[1;31m---------------------------------------------------------------------------\u001b[0m",
      "\u001b[1;31mTypeError\u001b[0m                                 Traceback (most recent call last)",
      "Cell \u001b[1;32mIn[25], line 2\u001b[0m\n\u001b[0;32m      1\u001b[0m \u001b[39mfrom\u001b[39;00m \u001b[39mml_funcs\u001b[39;00m \u001b[39mimport\u001b[39;00m Model_operations\n\u001b[1;32m----> 2\u001b[0m model_2_results \u001b[39m=\u001b[39m Model_operations\u001b[39m.\u001b[39;49meval_model(model_2, test_dataloader, loss_fn, accuracy_fn, device, \u001b[39mlist\u001b[39;49m)\n\u001b[0;32m      3\u001b[0m \u001b[39mprint\u001b[39m(model_2_results)\n\u001b[0;32m      4\u001b[0m \u001b[39m# res = (list(model_2_results.values())[1:])\u001b[39;00m\n\u001b[0;32m      5\u001b[0m \u001b[39m# from ml_funcs import difference_viewer\u001b[39;00m\n\u001b[0;32m      6\u001b[0m \u001b[39m# d = difference_viewer()\u001b[39;00m\n\u001b[1;32m   (...)\u001b[0m\n\u001b[0;32m      9\u001b[0m \u001b[39m# d.save(overwrite=True)\u001b[39;00m\n\u001b[0;32m     10\u001b[0m \u001b[39m# d.view()\u001b[39;00m\n",
      "\u001b[1;31mTypeError\u001b[0m: Model_operations.eval_model() takes 5 positional arguments but 6 were given"
     ]
    }
   ],
   "source": [
    "from ml_funcs import Model_operations\n",
    "model_2_results = Model_operations.eval_model(model_2, test_dataloader, loss_fn, accuracy_fn, device, list)\n",
    "print(model_2_results)\n",
    "# res = (list(model_2_results.values())[1:])\n",
    "# from ml_funcs import difference_viewer\n",
    "# d = difference_viewer()\n",
    "# d.load()\n",
    "# d.add(*res, time=time, name=\"view cnn\")\n",
    "# d.save(overwrite=True)\n",
    "# d.view()"
   ]
  }
 ],
 "metadata": {
  "kernelspec": {
   "display_name": "Python 3",
   "language": "python",
   "name": "python3"
  },
  "language_info": {
   "codemirror_mode": {
    "name": "ipython",
    "version": 3
   },
   "file_extension": ".py",
   "mimetype": "text/x-python",
   "name": "python",
   "nbconvert_exporter": "python",
   "pygments_lexer": "ipython3",
   "version": "3.11.4"
  },
  "orig_nbformat": 4
 },
 "nbformat": 4,
 "nbformat_minor": 2
}
