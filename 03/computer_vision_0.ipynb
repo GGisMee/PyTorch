{
 "cells": [
  {
   "cell_type": "markdown",
   "metadata": {},
   "source": [
    "# 0. Computer vision libraries in PyTorch\n",
    "\n",
    "* 'Torch vision' - base domain for PyTorch Computer vision at: 'https://pytorch.org/vision/stable/index.html'\n",
    "  * torchvision.datasets  get datasets and data loading funcs for computer vision here\n",
    "  * torchvision.models - get pretrained computer vision models from here\n",
    "  * torchvision.transforms - functions for manipulating your vision data (images) to be suitable for use with an ML model\n",
    "  * torch.utils.data.Dataset - Base dataset class for PyTorch\n",
    "  * torch.utils.data.DataLoader - Creates a Python iterable over a dataset\n"
   ]
  },
  {
   "cell_type": "code",
   "execution_count": 1,
   "metadata": {},
   "outputs": [
    {
     "name": "stderr",
     "output_type": "stream",
     "text": [
      "C:\\Users\\22gusgam\\AppData\\Local\\Packages\\PythonSoftwareFoundation.Python.3.11_qbz5n2kfra8p0\\LocalCache\\local-packages\\Python311\\site-packages\\torchaudio\\backend\\utils.py:74: UserWarning: No audio backend is available.\n",
      "  warnings.warn(\"No audio backend is available.\")\n"
     ]
    },
    {
     "name": "stdout",
     "output_type": "stream",
     "text": [
      "2.0.1+cu118\n",
      "0.15.2+cu118\n"
     ]
    }
   ],
   "source": [
    "# import necessary libraries\n",
    "\n",
    "# PyTorch based\n",
    "import torch as pt\n",
    "from torch import nn\n",
    "import torchvision as tv\n",
    "from torchvision import datasets\n",
    "from torchvision import transforms\n",
    "from torchvision.transforms import ToTensor # converts pil imag3e or np array to FloatTensor of shape (C x H x W)\n",
    "import torchmetrics as tm\n",
    "\n",
    "# Matplotlib for visualization\n",
    "import matplotlib.pyplot as plt\n",
    "\n",
    "print(pt.__version__)\n",
    "print(tv.__version__)"
   ]
  },
  {
   "cell_type": "markdown",
   "metadata": {},
   "source": [
    "### 1. Getting a dataset\n",
    "\n",
    "The dataset we will be using is FashionMNIST from torchvision.datasets, (a dataset of gray scale images of clothing): https://pytorch.org/vision/main/datasets.html"
   ]
  },
  {
   "cell_type": "code",
   "execution_count": 2,
   "metadata": {},
   "outputs": [
    {
     "name": "stdout",
     "output_type": "stream",
     "text": [
      "c:\\Users\\22gusgam\\Desktop\\programmering\\PyTorch\\03\n"
     ]
    }
   ],
   "source": [
    "# Setup training data\n",
    "import os\n",
    "print(os.getcwd())\n",
    "train_data = datasets.FashionMNIST(\n",
    "    root=f\"{os.getcwd()}/data\", # where should the file be placed\n",
    "    train=True, # do we want to get the training dataset\n",
    "    download=True, # do we want to download the dataset\n",
    "    transform=ToTensor(), # how do we want to transform the data, \n",
    "    target_transform=None # how do we want to transform the labels/targets\n",
    "    )\n",
    "\n",
    "test_data = datasets.FashionMNIST(\n",
    "    root=f\"{os.getcwd()}/data\",\n",
    "    train=False,\n",
    "    download=True,\n",
    "    transform=ToTensor(),\n",
    "    target_transform=None\n",
    "    )"
   ]
  },
  {
   "cell_type": "code",
   "execution_count": 3,
   "metadata": {},
   "outputs": [
    {
     "name": "stdout",
     "output_type": "stream",
     "text": [
      "60000 10000\n"
     ]
    }
   ],
   "source": [
    "print(len(train_data),len(test_data))"
   ]
  },
  {
   "cell_type": "markdown",
   "metadata": {},
   "source": [
    "### Visualizing our dataset"
   ]
  },
  {
   "cell_type": "markdown",
   "metadata": {},
   "source": [
    "#### As numbers"
   ]
  },
  {
   "cell_type": "code",
   "execution_count": 4,
   "metadata": {},
   "outputs": [
    {
     "data": {
      "text/plain": [
       "torch.Size([60000, 28, 28])"
      ]
     },
     "execution_count": 4,
     "metadata": {},
     "output_type": "execute_result"
    }
   ],
   "source": [
    "train_data.data.shape # batch size of 60000"
   ]
  },
  {
   "cell_type": "code",
   "execution_count": 5,
   "metadata": {},
   "outputs": [
    {
     "data": {
      "text/plain": [
       "'Ankle boot'"
      ]
     },
     "execution_count": 5,
     "metadata": {},
     "output_type": "execute_result"
    }
   ],
   "source": [
    "# See the first training example\n",
    "image, label = train_data[0]\n",
    "class_names = train_data.classes\n",
    "class_names[label]"
   ]
  },
  {
   "cell_type": "code",
   "execution_count": 6,
   "metadata": {},
   "outputs": [
    {
     "data": {
      "text/plain": [
       "{'T-shirt/top': 0,\n",
       " 'Trouser': 1,\n",
       " 'Pullover': 2,\n",
       " 'Dress': 3,\n",
       " 'Coat': 4,\n",
       " 'Sandal': 5,\n",
       " 'Shirt': 6,\n",
       " 'Sneaker': 7,\n",
       " 'Bag': 8,\n",
       " 'Ankle boot': 9}"
      ]
     },
     "execution_count": 6,
     "metadata": {},
     "output_type": "execute_result"
    }
   ],
   "source": [
    "class_to_idx = train_data.class_to_idx\n",
    "class_to_idx"
   ]
  },
  {
   "cell_type": "code",
   "execution_count": 7,
   "metadata": {},
   "outputs": [
    {
     "name": "stdout",
     "output_type": "stream",
     "text": [
      "image shapetorch.Size([1, 28, 28]) -> [Color channels, height, width]\n",
      "image_label: Ankle boot\n"
     ]
    }
   ],
   "source": [
    "# Check the shape of our image\n",
    "print(f\"image shape{image.shape} -> [Color channels, height, width]\")\n",
    "print(f\"image_label: {class_names[label]}\")"
   ]
  },
  {
   "cell_type": "markdown",
   "metadata": {},
   "source": [
    "#### As pictures"
   ]
  },
  {
   "cell_type": "code",
   "execution_count": 8,
   "metadata": {},
   "outputs": [
    {
     "name": "stdout",
     "output_type": "stream",
     "text": [
      "image shape: torch.Size([1, 28, 28])\n"
     ]
    },
    {
     "data": {
      "text/plain": [
       "Text(0.5, 1.0, 'Ankle boot, 9')"
      ]
     },
     "execution_count": 8,
     "metadata": {},
     "output_type": "execute_result"
    },
    {
     "data": {
      "image/png": "[encoded data removed]",
      "text/plain": [
       "<Figure size 640x480 with 1 Axes>"
      ]
     },
     "metadata": {},
     "output_type": "display_data"
    }
   ],
   "source": [
    "image, label = train_data[0]\n",
    "print(f\"image shape: {image.shape}\")\n",
    "plt.imshow(image.squeeze(),cmap=plt.cm.gray)\n",
    "plt.title(f\"{class_names[label]}, {label}\")"
   ]
  },
  {
   "cell_type": "code",
   "execution_count": 9,
   "metadata": {},
   "outputs": [
    {
     "data": {
      "image/png": "[encoded data removed]",
      "text/plain": [
       "<Figure size 900x900 with 16 Axes>"
      ]
     },
     "metadata": {},
     "output_type": "display_data"
    }
   ],
   "source": [
    "# Plot more images\n",
    "\n",
    "#pt.manual_seed(42)\n",
    "fig = plt.figure(figsize=(9,9))\n",
    "rows, cols = 4, 4\n",
    "for i in range(1, rows*cols+1):\n",
    "    random_idx = pt.randint(0, len(train_data), size=[1]).item()\n",
    "    #print(random_idx,i)\n",
    "    img, label = train_data[random_idx]\n",
    "    fig.add_subplot(rows, cols, i)\n",
    "    plt.imshow(img.squeeze()) #, cmap=\"gray\"\n",
    "    plt.title(class_names[label])\n",
    "    plt.axis(False)"
   ]
  },
  {
   "cell_type": "markdown",
   "metadata": {},
   "source": [
    "Is non linearity necessary or not?"
   ]
  },
  {
   "cell_type": "markdown",
   "metadata": {},
   "source": [
    "### Prepare DataLoader"
   ]
  },
  {
   "cell_type": "markdown",
   "metadata": {},
   "source": [
    "Right now, our data is in the form of PyTorch Datasets\n",
    "\n",
    "DataLoaders turn our dataset into a Python iterable\n",
    "more specifically, we want to turn our data into batches i.e mini-batches\n",
    "\n",
    "Why do this?\n",
    "1. It is more computationally efficient, as your computer may not be able to store 60000 images at the same time, therefore we brake it down to ex 32 images at a time (batch size)\n",
    "2. it gives our nn more chances to update its gradient per epoch (update for each 32 images)"
   ]
  },
  {
   "cell_type": "code",
   "execution_count": 10,
   "metadata": {},
   "outputs": [],
   "source": [
    "from torch.utils.data import DataLoader\n",
    "\n",
    "# Setup the batch size hyperparameter\n",
    "BATCH_SIZE = 32\n",
    "\n",
    "# Turn datasets into a generator like BataLoader that generates batches\n",
    "train_dataloader = DataLoader(dataset=train_data, batch_size=32, shuffle=True) # shuffle = True gör att alla värden i arrayen blandas\n",
    "test_dataloader = DataLoader(dataset=test_data, batch_size=32, shuffle=False)\n",
    "\n",
    "\n",
    "\n"
   ]
  },
  {
   "cell_type": "code",
   "execution_count": 11,
   "metadata": {},
   "outputs": [
    {
     "name": "stdout",
     "output_type": "stream",
     "text": [
      "DataLoaders: (<torch.utils.data.dataloader.DataLoader object at 0x0000028425104690>, <torch.utils.data.dataloader.DataLoader object at 0x000002842509AD10>)\n",
      "Length of train_dataloader: 1875 batches of 32\n",
      "Length of test_dataloader: 313 batches of 32\n"
     ]
    }
   ],
   "source": [
    "# Let's check out the dataloader\n",
    "print(f\"DataLoaders: {train_dataloader, test_dataloader}\")\n",
    "print(f\"Length of train_dataloader: {len(train_dataloader)} batches of {BATCH_SIZE}\")\n",
    "print(f\"Length of test_dataloader: {len(test_dataloader)} batches of {BATCH_SIZE}\")"
   ]
  },
  {
   "cell_type": "code",
   "execution_count": 12,
   "metadata": {},
   "outputs": [
    {
     "data": {
      "text/plain": [
       "(torch.Size([32, 1, 28, 28]), torch.Size([32]))"
      ]
     },
     "execution_count": 12,
     "metadata": {},
     "output_type": "execute_result"
    }
   ],
   "source": [
    "# Check out what's inside the training dataloader\n",
    "train_features_batch, training_labels_batch = next(iter(train_dataloader))\n",
    "train_features_batch.shape, training_labels_batch.shape\n",
    "# [32 batches, 1 color channel, 28 by, 28 pixels], 32 labels associated with the train_data"
   ]
  },
  {
   "cell_type": "code",
   "execution_count": 13,
   "metadata": {},
   "outputs": [
    {
     "data": {
      "text/plain": [
       "(-0.5, 27.5, 27.5, -0.5)"
      ]
     },
     "execution_count": 13,
     "metadata": {},
     "output_type": "execute_result"
    },
    {
     "data": {
      "image/png": "[encoded data removed]",
      "text/plain": [
       "<Figure size 640x480 with 1 Axes>"
      ]
     },
     "metadata": {},
     "output_type": "display_data"
    }
   ],
   "source": [
    "# Show a sample\n",
    "pt.manual_seed(42)\n",
    "random_idx = pt.randint(0, len(train_features_batch), size = [1]).item()\n",
    "img, label = train_features_batch[random_idx], training_labels_batch[random_idx]\n",
    "plt.imshow(img.squeeze())\n",
    "plt.title(class_names[label.item()])\n",
    "plt.axis(False)\n"
   ]
  },
  {
   "cell_type": "markdown",
   "metadata": {},
   "source": [
    "## Model 0 specific"
   ]
  },
  {
   "cell_type": "markdown",
   "metadata": {},
   "source": [
    "### Creating a model"
   ]
  },
  {
   "cell_type": "markdown",
   "metadata": {},
   "source": [
    "Build a basline ModuleNotFoundError\n",
    "\n",
    "When starting to build a series of ml modelling experiments it's good to start with a baseline model\n",
    "\n",
    "A baseline model is a simple model, which you will improve upon with experiments\n",
    "\n",
    "I.e start simple and add complexity"
   ]
  },
  {
   "cell_type": "code",
   "execution_count": 15,
   "metadata": {},
   "outputs": [
    {
     "name": "stdout",
     "output_type": "stream",
     "text": [
      "Shape before flattening: torch.Size([1, 28, 28]) -> [color_channels, height, width]\n",
      "Shape after flattening: torch.Size([1, 784]) -> [color_channels, height*width]\n"
     ]
    }
   ],
   "source": [
    "# Create a flatten layer\n",
    "flatten_model = nn.Flatten()\n",
    "\n",
    "# Get a single sample\n",
    "x = train_features_batch[0]\n",
    "\n",
    "output = flatten_model(x) # perform a forward pass on the flatten model\n",
    "# annan metod:\n",
    "# pt.reshape(x, [1,-1]).shape\n",
    "\n",
    "# Print results\n",
    "print(f\"Shape before flattening: {x.shape} -> [color_channels, height, width]\")\n",
    "print(f\"Shape after flattening: {output.shape} -> [color_channels, height*width]\")\n"
   ]
  },
  {
   "cell_type": "code",
   "execution_count": 16,
   "metadata": {},
   "outputs": [],
   "source": [
    "pt.manual_seed(42)\n",
    "from torch import nn\n",
    "\n",
    "class FashionMNISTModelV0(nn.Module):\n",
    "    def __init__(self, input_shape: int, hidden_units:int, output_shape:int):\n",
    "        super().__init__()\n",
    "        self.layer_stack = nn.Sequential(\n",
    "            nn.Flatten(), # kör genom flatten layer likt i exemplet ovan\n",
    "            nn.Linear(input_shape, hidden_units),\n",
    "            #nn.ReLU(),\n",
    "            nn.Linear(hidden_units, output_shape),\n",
    "        )\n",
    "    def forward(self,x):\n",
    "        return self.layer_stack(x)\n"
   ]
  },
  {
   "cell_type": "code",
   "execution_count": 17,
   "metadata": {},
   "outputs": [
    {
     "data": {
      "text/plain": [
       "FashionMNISTModelV0(\n",
       "  (layer_stack): Sequential(\n",
       "    (0): Flatten(start_dim=1, end_dim=-1)\n",
       "    (1): Linear(in_features=784, out_features=10, bias=True)\n",
       "    (2): Linear(in_features=10, out_features=10, bias=True)\n",
       "  )\n",
       ")"
      ]
     },
     "execution_count": 17,
     "metadata": {},
     "output_type": "execute_result"
    }
   ],
   "source": [
    "device = \"cuda\" if pt.cuda.is_available() else \"cpu\"\n",
    "pt.manual_seed(42)\n",
    "\n",
    "# Setup model with input parameters\n",
    "model_0 = FashionMNISTModelV0(\n",
    "    input_shape=784, # i.e 28*28\n",
    "    hidden_units=10,\n",
    "    output_shape=len(class_names) # one for every class\n",
    ").to(device)\n",
    "model_0"
   ]
  },
  {
   "cell_type": "code",
   "execution_count": 18,
   "metadata": {},
   "outputs": [
    {
     "name": "stdout",
     "output_type": "stream",
     "text": [
      "tensor([[-0.0315,  0.3171,  0.0531, -0.2525,  0.5959,  0.2112,  0.3233,  0.2694,\n",
      "         -0.1004,  0.0157]], grad_fn=<AddmmBackward0>)\n"
     ]
    }
   ],
   "source": [
    "dummy_x = pt.rand([1,1,28,28])\n",
    "#print(dummy_x)\n",
    "print(model_0(dummy_x))"
   ]
  },
  {
   "cell_type": "markdown",
   "metadata": {},
   "source": [
    "### Setup loss, optimizer and evaluation metrics"
   ]
  },
  {
   "cell_type": "markdown",
   "metadata": {},
   "source": [
    "* Loss function - Since we are working with multiclass data, our loss function will be nn.CrossEntropyLoss()\n",
    "\n",
    "* Optimizer - Our optimizer will be SGD (stochastic gradient descent)\n",
    "* Evaluation metric - since we are working on a classification problem, lets use accuracy oas our evaluation metric"
   ]
  },
  {
   "cell_type": "code",
   "execution_count": 1,
   "metadata": {},
   "outputs": [
    {
     "name": "stdout",
     "output_type": "stream",
     "text": [
      "c:\\Users\\22gusgam\\Desktop\\k\\PyTorch\\03/helper_functions.py already exists\n"
     ]
    },
    {
     "ename": "NameError",
     "evalue": "name 'nn' is not defined",
     "output_type": "error",
     "traceback": [
      "\u001b[1;31m---------------------------------------------------------------------------\u001b[0m",
      "\u001b[1;31mNameError\u001b[0m                                 Traceback (most recent call last)",
      "Cell \u001b[1;32mIn[1], line 5\u001b[0m\n\u001b[0;32m      2\u001b[0m helper_functions \u001b[39m=\u001b[39m import_from_github(\u001b[39m\"\u001b[39m\u001b[39mhttps://raw.githubusercontent.com/GGisMee/PyTorch/main/ml_toolkit/helper_functions.py\u001b[39m\u001b[39m\"\u001b[39m)\n\u001b[0;32m      3\u001b[0m \u001b[39mfrom\u001b[39;00m \u001b[39mhelper_functions\u001b[39;00m \u001b[39mimport\u001b[39;00m accuracy_fn\n\u001b[1;32m----> 5\u001b[0m loss_fn \u001b[39m=\u001b[39m nn\u001b[39m.\u001b[39mCrossEntropyLoss()\n\u001b[0;32m      6\u001b[0m optimizer \u001b[39m=\u001b[39m pt\u001b[39m.\u001b[39moptim\u001b[39m.\u001b[39mSGD(params\u001b[39m=\u001b[39mmodel_0\u001b[39m.\u001b[39mparameters(), lr\u001b[39m=\u001b[39m\u001b[39m0.1\u001b[39m)\n",
      "\u001b[1;31mNameError\u001b[0m: name 'nn' is not defined"
     ]
    }
   ],
   "source": [
    "from importLib import import_from_github\n",
    "import_from_github(\"https://raw.githubusercontent.com/GGisMee/PyTorch/main/ml_toolkit/helper_functions.py\")\n",
    "from helper_functions import accuracy_fn\n",
    "\n",
    "loss_fn = nn.CrossEntropyLoss()\n",
    "optimizer = pt.optim.SGD(params=model_0.parameters(), lr=0.1)\n",
    "\n",
    "\n",
    "\n"
   ]
  },
  {
   "cell_type": "markdown",
   "metadata": {},
   "source": [
    "#### Create a function to time the experiments\n",
    "\n",
    "Machine learning is very experimental.\n",
    "\n",
    "Two things we ofter track are:\n",
    "1. The models performance (loss and accuracy)\n",
    "2. How fast it runs with this function"
   ]
  },
  {
   "cell_type": "code",
   "execution_count": 20,
   "metadata": {},
   "outputs": [],
   "source": [
    "from timeit import default_timer as timer\n",
    "def print_train_time(start:float, device:pt.device = None):\n",
    "     \"\"\"print the difference between start and end time\"\"\"\n",
    "     \n",
    "     total_time = timer()-start\n",
    "     print(f\"Train time on {device}: {total_time:.3f} seconds\")\n",
    "     return total_time"
   ]
  },
  {
   "cell_type": "code",
   "execution_count": 21,
   "metadata": {},
   "outputs": [
    {
     "name": "stdout",
     "output_type": "stream",
     "text": [
      "Train time on cpu: 0.000 seconds\n"
     ]
    },
    {
     "data": {
      "text/plain": [
       "5.1800161600112915e-05"
      ]
     },
     "execution_count": 21,
     "metadata": {},
     "output_type": "execute_result"
    }
   ],
   "source": [
    "start_time = timer()\n",
    "print_train_time(start_time, device=\"cpu\")"
   ]
  },
  {
   "cell_type": "markdown",
   "metadata": {},
   "source": [
    "### Creating a training loop and training a model on batches of data"
   ]
  },
  {
   "cell_type": "markdown",
   "metadata": {},
   "source": [
    "1. Loop through epochs.\n",
    "2. Loop through training batches, perform training steps, calculate the train loss *per batch*\n",
    "3. Loop through testing batches, perform testing steps, calculate the test loss per batch\n",
    "4. print results, time for the loo\n",
    "\n",
    "flow:\n",
    "\n",
    "- for epoch:\n",
    "    - for training_batch:\n",
    "        - ...\n",
    "    - for testing_batch:\n",
    "        - ...\n",
    "    - print(results, time)\n",
    "\n"
   ]
  },
  {
   "cell_type": "code",
   "execution_count": 22,
   "metadata": {},
   "outputs": [
    {
     "data": {
      "text/plain": [
       "Dataset FashionMNIST\n",
       "    Number of datapoints: 60000\n",
       "    Root location: c:\\Users\\22gusgam\\Desktop\\programmering\\PyTorch\\03/data\n",
       "    Split: Train\n",
       "    StandardTransform\n",
       "Transform: ToTensor()"
      ]
     },
     "execution_count": 22,
     "metadata": {},
     "output_type": "execute_result"
    }
   ],
   "source": [
    "train_dataloader.dataset"
   ]
  },
  {
   "cell_type": "code",
   "execution_count": 23,
   "metadata": {},
   "outputs": [
    {
     "data": {
      "application/vnd.jupyter.widget-view+json": {
       "model_id": "09c47c673dfe4eb6abc46b9f93ef2153",
       "version_major": 2,
       "version_minor": 0
      },
      "text/plain": [
       "  0%|          | 0/3 [00:00<?, ?it/s]"
      ]
     },
     "metadata": {},
     "output_type": "display_data"
    },
    {
     "name": "stdout",
     "output_type": "stream",
     "text": [
      "Epoch: 0\n",
      "Looked at 14976/60000 samples\n",
      "Looked at 29952/60000 samples\n",
      "Looked at 44928/60000 samples\n",
      "Looked at 59904/60000 samples\n",
      "\n",
      "          Train loss: 0.5904, \n",
      "          Test loss: 0.5095,\n",
      "          Test acc: 82.0387\n",
      "          \n",
      "\n",
      "Epoch: 1\n",
      "Looked at 14976/60000 samples\n",
      "Looked at 29952/60000 samples\n",
      "Looked at 44928/60000 samples\n",
      "Looked at 59904/60000 samples\n",
      "\n",
      "          Train loss: 0.4763, \n",
      "          Test loss: 0.4799,\n",
      "          Test acc: 83.1969\n",
      "          \n",
      "\n",
      "Epoch: 2\n",
      "Looked at 14976/60000 samples\n",
      "Looked at 29952/60000 samples\n",
      "Looked at 44928/60000 samples\n",
      "Looked at 59904/60000 samples\n",
      "\n",
      "          Train loss: 0.4550, \n",
      "          Test loss: 0.4766,\n",
      "          Test acc: 83.4265\n",
      "          \n",
      "\n",
      "Train time on cpu: 47.952 seconds\n"
     ]
    }
   ],
   "source": [
    "# Import tqdm for progress bar\n",
    "from tqdm.auto import tqdm # auto gör att den automatiskt väljer hur progress baren ska se ut ex för normal .py eller .ipynb\n",
    "\n",
    "# Set the seed and start the timer\n",
    "pt.manual_seed(42)\n",
    "train_time = timer()\n",
    "\n",
    "# Set the number of epochs (small for faster training time and testing)\n",
    "epochs = 3\n",
    "\n",
    "# Create training and test loop\n",
    "for epoch in tqdm(range(epochs)):\n",
    "    print(f\"Epoch: {epoch}\") \n",
    "    ### Training\n",
    "    train_loss = 0\n",
    "    for batch, (X,y) in enumerate(train_dataloader):\n",
    "        model_0.train()\n",
    "        y_logits = model_0(X)\n",
    "        loss = loss_fn(y_logits, y)\n",
    "\n",
    "        train_loss += loss # accumulate train loss\n",
    "\n",
    "        optimizer.zero_grad()\n",
    "        loss.backward()\n",
    "        optimizer.step()\n",
    "    \n",
    "        # Print what is happening\n",
    "        if batch % int(len(train_dataloader.dataset)/(4*len(X))) == 0 and batch != 0:\n",
    "            # batch (numret av batch) * bilder i batch (32) / antalet bilder i hela datasetet \n",
    "            print(f\"Looked at {batch * len(X)}/{len(train_dataloader.dataset)} samples\") \n",
    "    \n",
    "    # Devide total train loss by length of train dataloader\n",
    "    train_loss /= len(train_dataloader)\n",
    "\n",
    "    # Testing\n",
    "    test_loss, test_acc = 0, 0\n",
    "    model_0.eval()\n",
    "    with pt.inference_mode():\n",
    "        for X_test,y_test in test_dataloader:\n",
    "            test_logits = model_0(X_test)\n",
    "            test_loss += loss_fn(test_logits, y_test)\n",
    "            test_acc += accuracy_fn(y_test, test_logits.argmax(dim=1))\n",
    "        # Calculate the test loss (avg per batch) and test accuracy\n",
    "        test_loss /= len(test_dataloader)\n",
    "        test_acc /= len(test_dataloader)\n",
    "\n",
    "    # Print out whats happening\n",
    "    print(f\"\"\"\n",
    "          Train loss: {train_loss:.4f}, \n",
    "          Test loss: {test_loss:.4f},\n",
    "          Test acc: {test_acc:.4f}\n",
    "          \\n\"\"\")\n",
    "# Calculate train time\n",
    "print_train_time(train_time, device=str(next(model_0.parameters()).device))\n",
    "pass\n"
   ]
  },
  {
   "cell_type": "markdown",
   "metadata": {},
   "source": [
    "### Make predictions and get Model 0:s results"
   ]
  },
  {
   "cell_type": "code",
   "execution_count": 39,
   "metadata": {},
   "outputs": [],
   "source": [
    "pt.manual_seed(42)\n",
    "\n",
    "def eval_model(model:pt.nn.Module, \n",
    "               data_loader: pt.utils.data.DataLoader, \n",
    "               loss_fn: pt.nn.Module,\n",
    "               accuracy_fn,\n",
    "               device:str):\n",
    "    \"\"\"Returns a dictionary containing the results of model predicting on data_loader\"\"\"\n",
    "    loss, acc = 0,0\n",
    "    model.eval()\n",
    "    with pt.inference_mode():\n",
    "        for X,y in data_loader:\n",
    "            X.to(device), y.to(device)\n",
    "            y_pred_logits = model(X)\n",
    "\n",
    "            # Accumulate the loss and acc values per batch\n",
    "            loss += loss_fn(y_pred_logits, y)\n",
    "            acc += accuracy_fn(y, y_pred_logits.argmax(dim=1))\n",
    "        \n",
    "        # Get the average loss and acc per batch, by deviding by total\n",
    "        loss /= len(data_loader)\n",
    "        acc /= len(data_loader)\n",
    "    return {\"model_name\":model.__class__.__name__, # only works when model was created with a class\n",
    "            \"model_loss\": loss.item(),\n",
    "            \"model_acc\": acc\n",
    "            }        "
   ]
  },
  {
   "cell_type": "code",
   "execution_count": 25,
   "metadata": {},
   "outputs": [
    {
     "name": "stdout",
     "output_type": "stream",
     "text": [
      "{'model_name': 'FashionMNISTModelV0', 'model_loss': 0.4766390025615692, 'model_acc': 83.42651757188499}\n"
     ]
    }
   ],
   "source": [
    "model_0_results = eval_model(model=model_0,\n",
    "                             data_loader=test_dataloader,\n",
    "                             loss_fn = loss_fn,\n",
    "                             accuracy_fn = accuracy_fn,\n",
    "                             device=\"cpu\")\n",
    "print(model_0_results)"
   ]
  },
  {
   "cell_type": "markdown",
   "metadata": {},
   "source": [
    "## Model 1"
   ]
  },
  {
   "cell_type": "code",
   "execution_count": 14,
   "metadata": {},
   "outputs": [],
   "source": [
    "import torch as pt\n",
    "from torch import nn\n",
    "device = \"cuda\" if pt.cuda.is_available() else \"cpu\""
   ]
  },
  {
   "cell_type": "code",
   "execution_count": 15,
   "metadata": {},
   "outputs": [],
   "source": [
    "#### Make a hopefully improved model using non-linearity\n",
    "pt.manual_seed(42)\n",
    "class FashionMNISTModelV1(nn.Module):\n",
    "    def __init__(self, input_shape: int, hidden_units:int, output_shape:int):\n",
    "        super().__init__()\n",
    "        self.layer_stack = nn.Sequential(\n",
    "            nn.Flatten(), # kör genom flatten layer likt i exemplet ovan\n",
    "            nn.Linear(input_shape, hidden_units),\n",
    "            nn.ReLU(),\n",
    "            nn.Linear(hidden_units, output_shape),\n",
    "            nn.ReLU(),\n",
    "        )\n",
    "    def forward(self,x: pt.Tensor) -> pt.Tensor:\n",
    "        return self.layer_stack(x)"
   ]
  },
  {
   "cell_type": "code",
   "execution_count": 16,
   "metadata": {},
   "outputs": [],
   "source": [
    "# Create an instance of model_1\n",
    "pt.manual_seed(42)\n",
    "model_1 = FashionMNISTModelV1(input_shape=784,\n",
    "                              hidden_units=10,\n",
    "                              output_shape=len(class_names) # send to the gpu is available\n",
    "                              ).to(device)"
   ]
  },
  {
   "cell_type": "code",
   "execution_count": 17,
   "metadata": {},
   "outputs": [
    {
     "data": {
      "text/plain": [
       "device(type='cpu')"
      ]
     },
     "execution_count": 17,
     "metadata": {},
     "output_type": "execute_result"
    }
   ],
   "source": [
    "next(model_1.parameters()).device"
   ]
  },
  {
   "cell_type": "code",
   "execution_count": 18,
   "metadata": {},
   "outputs": [],
   "source": [
    "### Setup loss, optimizer and evaluation metrics\n",
    "from helper_functions import accuracy_fn\n",
    "loss_fn = nn.CrossEntropyLoss()\n",
    "optimizer = pt.optim.SGD(params=model_1.parameters(), lr=0.1)\n"
   ]
  },
  {
   "cell_type": "markdown",
   "metadata": {},
   "source": [
    "### Setup a train and a test loop function "
   ]
  },
  {
   "cell_type": "code",
   "execution_count": 34,
   "metadata": {},
   "outputs": [],
   "source": [
    "def train_step(model: pt.nn.Module,\n",
    "               dataloader:pt.utils.data.DataLoader,\n",
    "               optimizer:pt.optim.Optimizer,\n",
    "               loss_fn:pt.nn.Module,\n",
    "               accuracy_fn,\n",
    "               device:pt.device = device,\n",
    "               show:bool = False) -> tuple:\n",
    "    \"\"\"Performs a training step with model trying to learn on data_loader\n",
    "    \n",
    "    args:\n",
    "        model: the model which will be trained on\n",
    "        dataloader: A generator like loader for the data\n",
    "        optimizer: Optimizer which optimizes the code through gradient descend\n",
    "        loss_fn: function which calculates how far from the right answer each of the predictions were\n",
    "        accuracy_fn: function which calculates how meny predictions were right\n",
    "        device: chosen device for the neural network to run on (cpu/gpu/tpu)\n",
    "        show: if true display the loss and acc in console \n",
    "    \n",
    "    returns:\n",
    "        if show: (loss, accuracy) else None\"\"\"\n",
    "    train_loss, train_acc = 0,0\n",
    "    ### Training\n",
    "    model.train()\n",
    "    for X,y in dataloader:\n",
    "        # Put data to the right device\n",
    "        X,y = X.to(device), y.to(device)\n",
    "\n",
    "        # 1. Forward pass\n",
    "        y_logits = model(X)\n",
    "\n",
    "        # 2. Calculate the loss\n",
    "        loss = loss_fn(y_logits, y)\n",
    "\n",
    "        # Accumulate values\n",
    "        train_loss += loss # accumulate train loss\n",
    "        train_acc += accuracy_fn(y, y_logits.argmax(dim=1)) # accumulate accuracy, goes from logits -> prediction labels with argmax(dim=1)\n",
    "\n",
    "        # optimizer zero grad, Loss backward,   Optimizer step\n",
    "        optimizer.zero_grad(); loss.backward(); optimizer.step()\n",
    "    \n",
    "    # Devide total train loss and acc by length of train dataloader\n",
    "    train_loss /= len(dataloader)\n",
    "    train_acc /= len(dataloader)\n",
    "\n",
    "    if show:\n",
    "        print(f\"train loss: {train_loss}, train accuracy: {train_acc}\")\n",
    "    #return (train_loss, train_acc) \n",
    "    "
   ]
  },
  {
   "cell_type": "code",
   "execution_count": 35,
   "metadata": {},
   "outputs": [],
   "source": [
    "def test_step(model: pt.nn.Module,\n",
    "               dataloader:pt.utils.data.DataLoader,\n",
    "               loss_fn:pt.nn.Module,\n",
    "               accuracy_fn,\n",
    "               device:pt.device = device,\n",
    "               show:bool = False) -> tuple:\n",
    "    \"\"\"Performs a testing loop step on model going over data_loader.\n",
    "    \n",
    "    args:\n",
    "        model: the model which will be trained on\n",
    "        dataloader: A generator like loader for the data\n",
    "        loss_fn: function which calculates how far from the right answer each of the predictions were\n",
    "        accuracy_fn: function which calculates how meny predictions were right\n",
    "        device: chosen device for the neural network to run on (cpu/gpu/tpu)\n",
    "        show: if true display the loss and acc in console \n",
    "    \n",
    "    returns:\n",
    "        if show: (loss, accuracy) else None\"\"\"\n",
    "    \n",
    "    # Create loss and acc variables\n",
    "    test_loss, test_acc = 0, 0\n",
    "\n",
    "    # Puts the model on evaluation mode\n",
    "    model.eval()\n",
    "\n",
    "    # Turn on inference mode (Predictions mode) to look at the data  \n",
    "    with pt.inference_mode():\n",
    "        for X,y in dataloader:\n",
    "            # Device agnostic\n",
    "            X.to(device), y.to(device)\n",
    "\n",
    "            # Forward pass\n",
    "            test_logits = model(X)\n",
    "\n",
    "            # Acumulate the loss and accuracy\n",
    "            test_loss += loss_fn(test_logits, y)\n",
    "            test_acc += accuracy_fn(y, test_logits.argmax(dim=1))\n",
    "\n",
    "        # Calculate the loss (avg per batch) and accuracy\n",
    "        test_loss /= len(dataloader)\n",
    "        test_acc /= len(dataloader)\n",
    "\n",
    "    if show:\n",
    "        print(f\"Test loss: {test_loss:.4f}, Test acc: {test_acc:.4f}\") \n",
    "    #return test_loss, test_acc\n"
   ]
  },
  {
   "cell_type": "markdown",
   "metadata": {},
   "source": [
    "### Setup train and test func runner + evaluate"
   ]
  },
  {
   "cell_type": "code",
   "execution_count": 36,
   "metadata": {},
   "outputs": [
    {
     "data": {
      "application/vnd.jupyter.widget-view+json": {
       "model_id": "4e0e44b014614a619397867c56edd16a",
       "version_major": 2,
       "version_minor": 0
      },
      "text/plain": [
       "  0%|          | 0/3 [00:00<?, ?it/s]"
      ]
     },
     "metadata": {},
     "output_type": "display_data"
    },
    {
     "name": "stdout",
     "output_type": "stream",
     "text": [
      "Epoch: 0\n",
      "train loss: 0.8423582315444946, train accuracy: 70.13833333333334\n",
      "Test loss: 0.6950, Test acc: 74.6533\n",
      "Epoch: 1\n",
      "train loss: 0.6774541735649109, train accuracy: 75.30833333333334\n",
      "Test loss: 0.6339, Test acc: 76.5583\n",
      "Epoch: 2\n",
      "train loss: 0.6505247354507446, train accuracy: 76.28\n",
      "Test loss: 0.6475, Test acc: 76.3867\n",
      "Train time on cpu: 78.855 seconds\n"
     ]
    }
   ],
   "source": [
    "epoch = 3\n",
    "start = timer()\n",
    "for epoch in tqdm(range(epochs)):\n",
    "    print(f\"Epoch: {epoch}\")\n",
    "    train_step(model_1, train_dataloader, optimizer, loss_fn,accuracy_fn, device,True)\n",
    "    test_step(model_1, train_dataloader, loss_fn,accuracy_fn, device,True)\n",
    "total_time = print_train_time(start, device)"
   ]
  },
  {
   "cell_type": "code",
   "execution_count": null,
   "metadata": {},
   "outputs": [],
   "source": [
    "print(model_0_results)\n",
    "print()"
   ]
  },
  {
   "cell_type": "markdown",
   "metadata": {},
   "source": [
    "**Note** Sometimes the cpu is faster then the gpu, why?\n",
    "> 1. It could be that the overhead for copying data/model to and from gpu is higher then compute benefits, ex. X.to(\"cuda\")\n",
    "> 2. (Rare) the cpu is simply better then the gpu in compute capabilities\n",
    ">\n",
    "> For more look on: https://horace.io/brrr_intro.html"
   ]
  },
  {
   "cell_type": "code",
   "execution_count": 25,
   "metadata": {},
   "outputs": [
    {
     "ename": "NameError",
     "evalue": "name 'eval_model' is not defined",
     "output_type": "error",
     "traceback": [
      "\u001b[1;31m---------------------------------------------------------------------------\u001b[0m",
      "\u001b[1;31mNameError\u001b[0m                                 Traceback (most recent call last)",
      "Cell \u001b[1;32mIn[25], line 1\u001b[0m\n\u001b[1;32m----> 1\u001b[0m model_1_results \u001b[39m=\u001b[39m eval_model(model_1, test_dataloader, loss_fn, accuracy_fn, device\u001b[39m=\u001b[39mdevice)\n\u001b[0;32m      2\u001b[0m \u001b[39mprint\u001b[39m(\u001b[39m\"\u001b[39m\u001b[39mAs you can see after 3 epochs each the linear model is better\u001b[39m\u001b[39m\"\u001b[39m)\n\u001b[0;32m      3\u001b[0m \u001b[39mprint\u001b[39m(model_1_results, model_0_results)\n",
      "\u001b[1;31mNameError\u001b[0m: name 'eval_model' is not defined"
     ]
    }
   ],
   "source": [
    "model_1_results = eval_model(model_1, test_dataloader, loss_fn, accuracy_fn, device=device)\n",
    "print(\"As you can see after 3 epochs each the linear model is better\")\n",
    "print(model_1_results, model_0_results)"
   ]
  },
  {
   "cell_type": "code",
   "execution_count": 63,
   "metadata": {},
   "outputs": [
    {
     "name": "stdout",
     "output_type": "stream",
     "text": [
      "9 9\n",
      "2 2\n",
      "1 1\n",
      "1 1\n",
      "6 6\n",
      "1 1\n",
      "4 4\n",
      "6 6\n",
      "5 5\n",
      "7 7\n",
      "4 4\n",
      "5 5\n",
      "5 7\n",
      "0 3\n",
      "4 4\n",
      "1 1\n",
      "2 2\n",
      "4 4\n",
      "8 8\n",
      "0 0\n",
      "0 2\n",
      "7 5\n",
      "7 7\n",
      "7 9\n",
      "1 1\n",
      "2 4\n",
      "6 6\n",
      "0 0\n",
      "9 9\n",
      "4 3\n",
      "8 8\n",
      "8 8\n"
     ]
    }
   ],
   "source": [
    "for picture_chosen in range(32): \n",
    "    print(model_1(next(iter(test_dataloader))[0][picture_chosen]).argmax(dim=1).item(), next(iter(test_dataloader))[1][picture_chosen].item())"
   ]
  }
 ],
 "metadata": {
  "kernelspec": {
   "display_name": "Python 3",
   "language": "python",
   "name": "python3"
  },
  "language_info": {
   "codemirror_mode": {
    "name": "ipython",
    "version": 3
   },
   "file_extension": ".py",
   "mimetype": "text/x-python",
   "name": "python",
   "nbconvert_exporter": "python",
   "pygments_lexer": "ipython3",
   "version": "3.11.4"
  },
  "orig_nbformat": 4
 },
 "nbformat": 4,
 "nbformat_minor": 2
}
