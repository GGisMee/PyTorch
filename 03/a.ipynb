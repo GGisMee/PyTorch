{
 "cells": [
  {
   "cell_type": "code",
   "execution_count": 41,
   "metadata": {},
   "outputs": [
    {
     "data": {
      "text/plain": [
       "[1, 2, 2, 'd']"
      ]
     },
     "execution_count": 41,
     "metadata": {},
     "output_type": "execute_result"
    }
   ],
   "source": [
    "from typing import List, Callable, Union\n",
    "def function_chainer(input:Union[tuple, List], func_list: List[Callable]) -> any:\n",
    "    \"\"\"Chains functions in func_list with input as initial input and returns result\n",
    "    \n",
    "    args:\n",
    "        initial_data (tuple): The initial data to be passed as arguments to the first function.\n",
    "        func_list (List[Callable]): A list of functions to be executed sequentially.\n",
    "\n",
    "    returns:\n",
    "        any: The final output after applying all the functions.\"\"\"\n",
    "    output = func_list[0](*input)\n",
    "    for func in func_list[1:]:\n",
    "        output = func(output)\n",
    "    return output\n",
    "def a(x):\n",
    "    x.append(2)\n",
    "    return x\n",
    "def b(x):\n",
    "    x.append(\"d\")\n",
    "    return x\n",
    "\n",
    "\n",
    "list = [a,b]\n",
    "input_val = [[1,2]]\n",
    "(function_chainer(input_val, list))"
   ]
  }
 ],
 "metadata": {
  "kernelspec": {
   "display_name": "Python 3",
   "language": "python",
   "name": "python3"
  },
  "language_info": {
   "codemirror_mode": {
    "name": "ipython",
    "version": 3
   },
   "file_extension": ".py",
   "mimetype": "text/x-python",
   "name": "python",
   "nbconvert_exporter": "python",
   "pygments_lexer": "ipython3",
   "version": "3.11.4"
  },
  "orig_nbformat": 4
 },
 "nbformat": 4,
 "nbformat_minor": 2
}
